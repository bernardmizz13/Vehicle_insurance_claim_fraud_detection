{
 "cells": [
  {
   "cell_type": "markdown",
   "metadata": {},
   "source": [
    "# Data analysis"
   ]
  },
  {
   "cell_type": "markdown",
   "metadata": {},
   "source": [
    "## 1. Necessary imports"
   ]
  },
  {
   "cell_type": "code",
   "execution_count": 1,
   "metadata": {},
   "outputs": [],
   "source": [
    "# to retrieve files\n",
    "import os.path\n",
    "# for mathematical calculations\n",
    "import numpy as np\n",
    "# for CSV and dataframe operations\n",
    "import pandas as pd\n",
    "# for plots\n",
    "import matplotlib.pyplot as plt"
   ]
  },
  {
   "cell_type": "markdown",
   "metadata": {},
   "source": [
    "## 2. Reading the data"
   ]
  },
  {
   "cell_type": "code",
   "execution_count": 2,
   "metadata": {},
   "outputs": [
    {
     "name": "stdout",
     "output_type": "stream",
     "text": [
      "C:\\Users\\berna\\Google Drive\\Work\\Research_collab\\Github_repositories\\Vehicle_insurance_claim_fraud_detection\\Jupyter_notebooks\n"
     ]
    }
   ],
   "source": [
    "# get the current working directory\n",
    "print(os.getcwd())"
   ]
  },
  {
   "cell_type": "code",
   "execution_count": 3,
   "metadata": {},
   "outputs": [
    {
     "name": "stdout",
     "output_type": "stream",
     "text": [
      "  Month  WeekOfMonth  DayOfWeek    Make AccidentArea DayOfWeekClaimed  \\\n",
      "0   Dec            5  Wednesday   Honda        Urban          Tuesday   \n",
      "1   Jan            3  Wednesday   Honda        Urban           Monday   \n",
      "2   Oct            5     Friday   Honda        Urban         Thursday   \n",
      "3   Jun            2   Saturday  Toyota        Rural           Friday   \n",
      "4   Jan            5     Monday   Honda        Urban          Tuesday   \n",
      "\n",
      "  MonthClaimed  WeekOfMonthClaimed     Sex MaritalStatus  ...  AgeOfVehicle  \\\n",
      "0          Jan                   1  Female        Single  ...       3 years   \n",
      "1          Jan                   4    Male        Single  ...       6 years   \n",
      "2          Nov                   2    Male       Married  ...       7 years   \n",
      "3          Jul                   1    Male       Married  ...   more than 7   \n",
      "4          Feb                   2  Female        Single  ...       5 years   \n",
      "\n",
      "  AgeOfPolicyHolder PoliceReportFiled WitnessPresent AgentType  \\\n",
      "0          26 to 30                No             No  External   \n",
      "1          31 to 35               Yes             No  External   \n",
      "2          41 to 50                No             No  External   \n",
      "3          51 to 65               Yes             No  External   \n",
      "4          31 to 35                No             No  External   \n",
      "\n",
      "   NumberOfSuppliments  AddressChange_Claim  NumberOfCars  Year  BasePolicy  \n",
      "0                 none               1 year        3 to 4  1994   Liability  \n",
      "1                 none            no change     1 vehicle  1994   Collision  \n",
      "2                 none            no change     1 vehicle  1994   Collision  \n",
      "3          more than 5            no change     1 vehicle  1994   Liability  \n",
      "4                 none            no change     1 vehicle  1994   Collision  \n",
      "\n",
      "[5 rows x 33 columns]\n"
     ]
    }
   ],
   "source": [
    "# reading the dataset stored as CSV\n",
    "data = pd.read_csv(os.getcwd() + '/../Dataset/fraud_oracle.csv')\n",
    "\n",
    "# printing the first 5 rows of the dataframe\n",
    "print(data.head())"
   ]
  },
  {
   "cell_type": "markdown",
   "metadata": {},
   "source": [
    "## 3. Showing class imbalance"
   ]
  },
  {
   "cell_type": "code",
   "execution_count": 4,
   "metadata": {},
   "outputs": [
    {
     "name": "stdout",
     "output_type": "stream",
     "text": [
      "0    14497\n",
      "1      923\n",
      "Name: FraudFound_P, dtype: int64\n",
      "\n",
      "No. of records: 15420\n"
     ]
    }
   ],
   "source": [
    "# get the value counts\n",
    "print(data['FraudFound_P'].value_counts())\n",
    "\n",
    "print('\\nNo. of records:', data.shape[0])"
   ]
  },
  {
   "cell_type": "code",
   "execution_count": 5,
   "metadata": {},
   "outputs": [
    {
     "data": {
      "text/plain": [
       "[94.01, 5.99]"
      ]
     },
     "execution_count": 5,
     "metadata": {},
     "output_type": "execute_result"
    }
   ],
   "source": [
    "# storing the value counts\n",
    "vc = data.FraudFound_P.value_counts()\n",
    "\n",
    "# convert the value counts to a list\n",
    "list_vc = vc.tolist()\n",
    "list_vc\n",
    "\n",
    "# convert the value counts to another list\n",
    "vc_numbers_list = vc.to_list()\n",
    "\n",
    "# get the total number of claims in the dataset\n",
    "total = data.shape[0]\n",
    "\n",
    "# convert the value counts to percentage of the total number of claims\n",
    "list_vc = [round(l/total * 100, 2) for l in list_vc]\n",
    "list_vc"
   ]
  },
  {
   "cell_type": "code",
   "execution_count": 6,
   "metadata": {},
   "outputs": [
    {
     "data": {
      "text/plain": [
       "[0, 1]"
      ]
     },
     "execution_count": 6,
     "metadata": {},
     "output_type": "execute_result"
    }
   ],
   "source": [
    "# getting the labels\n",
    "s = vc.index.tolist()\n",
    "s"
   ]
  },
  {
   "cell_type": "code",
   "execution_count": 7,
   "metadata": {},
   "outputs": [],
   "source": [
    "# setting new labels for plotting purposes only\n",
    "s = ['Non_fraudulent', 'Fraudulent']"
   ]
  },
  {
   "cell_type": "code",
   "execution_count": 8,
   "metadata": {},
   "outputs": [
    {
     "data": {
      "text/plain": [
       "['Non_fraudulent, 14497, 94.01%', 'Fraudulent, 923, 5.99%']"
      ]
     },
     "execution_count": 8,
     "metadata": {},
     "output_type": "execute_result"
    }
   ],
   "source": [
    "# setting the x-axis and printing it\n",
    "yax = [text + ', ' + str(occ) + ', ' + str(perc) + '%' for text, occ, perc in zip(s, vc_numbers_list, list_vc)]\n",
    "yax"
   ]
  },
  {
   "cell_type": "code",
   "execution_count": 9,
   "metadata": {},
   "outputs": [
    {
     "data": {
      "image/png": "[encoded data removed]",
      "text/plain": [
       "<Figure size 432x288 with 1 Axes>"
      ]
     },
     "metadata": {
      "needs_background": "light"
     },
     "output_type": "display_data"
    }
   ],
   "source": [
    "ticks = yax\n",
    "data_for_plotting = list_vc\n",
    "ind = np.arange(len(data_for_plotting))\n",
    "fig = plt.figure(tight_layout=True) # need tight_layout to make everything fit\n",
    "ax = plt.subplot(111)\n",
    "ax.bar(ind, data_for_plotting, 0.3, align='center', label=\"%\")\n",
    "# plt.legend() - legend is useless in this plot\n",
    "plt.title('Fradulent and non-fradulent vehicle insurance claims')\n",
    "y_pos = range(len(yax))\n",
    "plt.xticks(y_pos, yax)\n",
    "plt.draw()  # this is needed because get_window_extent needs a renderer to work\n",
    "plt.savefig('Plots/claims_labels.png')\n",
    "plt.draw()\n",
    "plt.show()"
   ]
  },
  {
   "cell_type": "markdown",
   "metadata": {},
   "source": [
    "## 4. Identifying outliers"
   ]
  },
  {
   "cell_type": "markdown",
   "metadata": {},
   "source": [
    "https://careerfoundry.com/en/blog/data-analytics/how-to-find-outliers/"
   ]
  },
  {
   "cell_type": "code",
   "execution_count": 10,
   "metadata": {},
   "outputs": [
    {
     "data": {
      "text/html": [
       "<div>\n",
       "<style scoped>\n",
       "    .dataframe tbody tr th:only-of-type {\n",
       "        vertical-align: middle;\n",
       "    }\n",
       "\n",
       "    .dataframe tbody tr th {\n",
       "        vertical-align: top;\n",
       "    }\n",
       "\n",
       "    .dataframe thead th {\n",
       "        text-align: right;\n",
       "    }\n",
       "</style>\n",
       "<table border=\"1\" class=\"dataframe\">\n",
       "  <thead>\n",
       "    <tr style=\"text-align: right;\">\n",
       "      <th></th>\n",
       "      <th>Age</th>\n",
       "      <th>DriverRating</th>\n",
       "    </tr>\n",
       "  </thead>\n",
       "  <tbody>\n",
       "    <tr>\n",
       "      <th>count</th>\n",
       "      <td>15420.000000</td>\n",
       "      <td>15420.000000</td>\n",
       "    </tr>\n",
       "    <tr>\n",
       "      <th>mean</th>\n",
       "      <td>39.855707</td>\n",
       "      <td>2.487808</td>\n",
       "    </tr>\n",
       "    <tr>\n",
       "      <th>std</th>\n",
       "      <td>13.492377</td>\n",
       "      <td>1.119453</td>\n",
       "    </tr>\n",
       "    <tr>\n",
       "      <th>min</th>\n",
       "      <td>0.000000</td>\n",
       "      <td>1.000000</td>\n",
       "    </tr>\n",
       "    <tr>\n",
       "      <th>25%</th>\n",
       "      <td>31.000000</td>\n",
       "      <td>1.000000</td>\n",
       "    </tr>\n",
       "    <tr>\n",
       "      <th>50%</th>\n",
       "      <td>38.000000</td>\n",
       "      <td>2.000000</td>\n",
       "    </tr>\n",
       "    <tr>\n",
       "      <th>75%</th>\n",
       "      <td>48.000000</td>\n",
       "      <td>3.000000</td>\n",
       "    </tr>\n",
       "    <tr>\n",
       "      <th>max</th>\n",
       "      <td>80.000000</td>\n",
       "      <td>4.000000</td>\n",
       "    </tr>\n",
       "  </tbody>\n",
       "</table>\n",
       "</div>"
      ],
      "text/plain": [
       "                Age  DriverRating\n",
       "count  15420.000000  15420.000000\n",
       "mean      39.855707      2.487808\n",
       "std       13.492377      1.119453\n",
       "min        0.000000      1.000000\n",
       "25%       31.000000      1.000000\n",
       "50%       38.000000      2.000000\n",
       "75%       48.000000      3.000000\n",
       "max       80.000000      4.000000"
      ]
     },
     "execution_count": 10,
     "metadata": {},
     "output_type": "execute_result"
    }
   ],
   "source": [
    "# get some info about certain data\n",
    "data.describe()[['Age', 'DriverRating']]"
   ]
  },
  {
   "cell_type": "markdown",
   "metadata": {},
   "source": [
    "This exercise was of not much help as the majority of the features are categorical, hence, we proceed with further analysis of the data."
   ]
  },
  {
   "cell_type": "markdown",
   "metadata": {},
   "source": [
    "## 5. Trying to identify concept drift"
   ]
  },
  {
   "cell_type": "code",
   "execution_count": 11,
   "metadata": {},
   "outputs": [
    {
     "name": "stdout",
     "output_type": "stream",
     "text": [
      "['Jan' 'Nov' 'Jul' 'Feb' 'Mar' 'Dec' 'Apr' 'Aug' 'May' 'Jun' 'Sep' 'Oct'\n",
      " '0']\n",
      "['Tuesday' 'Monday' 'Thursday' 'Friday' 'Wednesday' 'Saturday' 'Sunday'\n",
      " '0']\n"
     ]
    }
   ],
   "source": [
    "# first perform some pre-processing so that certain categorical features are converted to integer for sorting purposes\n",
    "\n",
    "# get each unique value of each column to be mapped\n",
    "print(data.MonthClaimed.unique())\n",
    "print(data.DayOfWeekClaimed.unique())"
   ]
  },
  {
   "cell_type": "code",
   "execution_count": 12,
   "metadata": {},
   "outputs": [
    {
     "name": "stdout",
     "output_type": "stream",
     "text": [
      "MonthClaimed: 1\n",
      "DayOfWeekClaimed: 1\n",
      "\n",
      "No. of records before deletion: 15420\n",
      "\n",
      "No. of records after deletion: 15419\n"
     ]
    }
   ],
   "source": [
    "# in the above cell we notice that there are certain errors in the data, 0 is not supposed to appear\n",
    "# thus we check how many records there are which have 0 under any of the two above mentioned columns and we remove them\n",
    "\n",
    "print('MonthClaimed:', data['MonthClaimed'].value_counts()['0'])\n",
    "print('DayOfWeekClaimed:', data['DayOfWeekClaimed'].value_counts()['0'])\n",
    "\n",
    "print('\\nNo. of records before deletion:', data.shape[0])\n",
    "\n",
    "# store new data for sorting to avoid mix ups\n",
    "sorted_data = data\n",
    "\n",
    "# remove the records with the invalid value under the specified columns\n",
    "# parameter inplace is set to False (also by default) so that we return a copy of the modified dataframe and store it\n",
    "# info retrieved from the official Pandas documentation - https://pandas.pydata.org/docs/reference/api/pandas.DataFrame.drop.html\n",
    "sorted_data = sorted_data.drop(sorted_data[sorted_data['MonthClaimed'] == '0'].index, inplace = False)\n",
    "sorted_data = sorted_data.drop(sorted_data[sorted_data['DayOfWeekClaimed'] == '0'].index, inplace = False)\n",
    "\n",
    "print('\\nNo. of records after deletion:', sorted_data.shape[0])\n",
    "\n",
    "# record removed"
   ]
  },
  {
   "cell_type": "code",
   "execution_count": 13,
   "metadata": {},
   "outputs": [
    {
     "data": {
      "text/html": [
       "<div>\n",
       "<style scoped>\n",
       "    .dataframe tbody tr th:only-of-type {\n",
       "        vertical-align: middle;\n",
       "    }\n",
       "\n",
       "    .dataframe tbody tr th {\n",
       "        vertical-align: top;\n",
       "    }\n",
       "\n",
       "    .dataframe thead th {\n",
       "        text-align: right;\n",
       "    }\n",
       "</style>\n",
       "<table border=\"1\" class=\"dataframe\">\n",
       "  <thead>\n",
       "    <tr style=\"text-align: right;\">\n",
       "      <th></th>\n",
       "      <th>Month</th>\n",
       "      <th>WeekOfMonth</th>\n",
       "      <th>DayOfWeek</th>\n",
       "      <th>Make</th>\n",
       "      <th>AccidentArea</th>\n",
       "      <th>DayOfWeekClaimed</th>\n",
       "      <th>MonthClaimed</th>\n",
       "      <th>WeekOfMonthClaimed</th>\n",
       "      <th>Sex</th>\n",
       "      <th>MaritalStatus</th>\n",
       "      <th>...</th>\n",
       "      <th>PoliceReportFiled</th>\n",
       "      <th>WitnessPresent</th>\n",
       "      <th>AgentType</th>\n",
       "      <th>NumberOfSuppliments</th>\n",
       "      <th>AddressChange_Claim</th>\n",
       "      <th>NumberOfCars</th>\n",
       "      <th>Year</th>\n",
       "      <th>BasePolicy</th>\n",
       "      <th>MonthClaimed_int</th>\n",
       "      <th>DayOfWeekClaimed_int</th>\n",
       "    </tr>\n",
       "  </thead>\n",
       "  <tbody>\n",
       "    <tr>\n",
       "      <th>0</th>\n",
       "      <td>Dec</td>\n",
       "      <td>5</td>\n",
       "      <td>Wednesday</td>\n",
       "      <td>Honda</td>\n",
       "      <td>Urban</td>\n",
       "      <td>Tuesday</td>\n",
       "      <td>Jan</td>\n",
       "      <td>1</td>\n",
       "      <td>Female</td>\n",
       "      <td>Single</td>\n",
       "      <td>...</td>\n",
       "      <td>No</td>\n",
       "      <td>No</td>\n",
       "      <td>External</td>\n",
       "      <td>none</td>\n",
       "      <td>1 year</td>\n",
       "      <td>3 to 4</td>\n",
       "      <td>1994</td>\n",
       "      <td>Liability</td>\n",
       "      <td>1</td>\n",
       "      <td>2</td>\n",
       "    </tr>\n",
       "    <tr>\n",
       "      <th>1</th>\n",
       "      <td>Jan</td>\n",
       "      <td>3</td>\n",
       "      <td>Wednesday</td>\n",
       "      <td>Honda</td>\n",
       "      <td>Urban</td>\n",
       "      <td>Monday</td>\n",
       "      <td>Jan</td>\n",
       "      <td>4</td>\n",
       "      <td>Male</td>\n",
       "      <td>Single</td>\n",
       "      <td>...</td>\n",
       "      <td>Yes</td>\n",
       "      <td>No</td>\n",
       "      <td>External</td>\n",
       "      <td>none</td>\n",
       "      <td>no change</td>\n",
       "      <td>1 vehicle</td>\n",
       "      <td>1994</td>\n",
       "      <td>Collision</td>\n",
       "      <td>1</td>\n",
       "      <td>1</td>\n",
       "    </tr>\n",
       "    <tr>\n",
       "      <th>2</th>\n",
       "      <td>Oct</td>\n",
       "      <td>5</td>\n",
       "      <td>Friday</td>\n",
       "      <td>Honda</td>\n",
       "      <td>Urban</td>\n",
       "      <td>Thursday</td>\n",
       "      <td>Nov</td>\n",
       "      <td>2</td>\n",
       "      <td>Male</td>\n",
       "      <td>Married</td>\n",
       "      <td>...</td>\n",
       "      <td>No</td>\n",
       "      <td>No</td>\n",
       "      <td>External</td>\n",
       "      <td>none</td>\n",
       "      <td>no change</td>\n",
       "      <td>1 vehicle</td>\n",
       "      <td>1994</td>\n",
       "      <td>Collision</td>\n",
       "      <td>11</td>\n",
       "      <td>4</td>\n",
       "    </tr>\n",
       "    <tr>\n",
       "      <th>3</th>\n",
       "      <td>Jun</td>\n",
       "      <td>2</td>\n",
       "      <td>Saturday</td>\n",
       "      <td>Toyota</td>\n",
       "      <td>Rural</td>\n",
       "      <td>Friday</td>\n",
       "      <td>Jul</td>\n",
       "      <td>1</td>\n",
       "      <td>Male</td>\n",
       "      <td>Married</td>\n",
       "      <td>...</td>\n",
       "      <td>Yes</td>\n",
       "      <td>No</td>\n",
       "      <td>External</td>\n",
       "      <td>more than 5</td>\n",
       "      <td>no change</td>\n",
       "      <td>1 vehicle</td>\n",
       "      <td>1994</td>\n",
       "      <td>Liability</td>\n",
       "      <td>7</td>\n",
       "      <td>5</td>\n",
       "    </tr>\n",
       "    <tr>\n",
       "      <th>4</th>\n",
       "      <td>Jan</td>\n",
       "      <td>5</td>\n",
       "      <td>Monday</td>\n",
       "      <td>Honda</td>\n",
       "      <td>Urban</td>\n",
       "      <td>Tuesday</td>\n",
       "      <td>Feb</td>\n",
       "      <td>2</td>\n",
       "      <td>Female</td>\n",
       "      <td>Single</td>\n",
       "      <td>...</td>\n",
       "      <td>No</td>\n",
       "      <td>No</td>\n",
       "      <td>External</td>\n",
       "      <td>none</td>\n",
       "      <td>no change</td>\n",
       "      <td>1 vehicle</td>\n",
       "      <td>1994</td>\n",
       "      <td>Collision</td>\n",
       "      <td>2</td>\n",
       "      <td>2</td>\n",
       "    </tr>\n",
       "  </tbody>\n",
       "</table>\n",
       "<p>5 rows × 35 columns</p>\n",
       "</div>"
      ],
      "text/plain": [
       "  Month  WeekOfMonth  DayOfWeek    Make AccidentArea DayOfWeekClaimed  \\\n",
       "0   Dec            5  Wednesday   Honda        Urban          Tuesday   \n",
       "1   Jan            3  Wednesday   Honda        Urban           Monday   \n",
       "2   Oct            5     Friday   Honda        Urban         Thursday   \n",
       "3   Jun            2   Saturday  Toyota        Rural           Friday   \n",
       "4   Jan            5     Monday   Honda        Urban          Tuesday   \n",
       "\n",
       "  MonthClaimed  WeekOfMonthClaimed     Sex MaritalStatus  ...  \\\n",
       "0          Jan                   1  Female        Single  ...   \n",
       "1          Jan                   4    Male        Single  ...   \n",
       "2          Nov                   2    Male       Married  ...   \n",
       "3          Jul                   1    Male       Married  ...   \n",
       "4          Feb                   2  Female        Single  ...   \n",
       "\n",
       "   PoliceReportFiled WitnessPresent AgentType NumberOfSuppliments  \\\n",
       "0                 No             No  External                none   \n",
       "1                Yes             No  External                none   \n",
       "2                 No             No  External                none   \n",
       "3                Yes             No  External         more than 5   \n",
       "4                 No             No  External                none   \n",
       "\n",
       "  AddressChange_Claim  NumberOfCars  Year  BasePolicy  MonthClaimed_int  \\\n",
       "0              1 year        3 to 4  1994   Liability                 1   \n",
       "1           no change     1 vehicle  1994   Collision                 1   \n",
       "2           no change     1 vehicle  1994   Collision                11   \n",
       "3           no change     1 vehicle  1994   Liability                 7   \n",
       "4           no change     1 vehicle  1994   Collision                 2   \n",
       "\n",
       "   DayOfWeekClaimed_int  \n",
       "0                     2  \n",
       "1                     1  \n",
       "2                     4  \n",
       "3                     5  \n",
       "4                     2  \n",
       "\n",
       "[5 rows x 35 columns]"
      ]
     },
     "execution_count": 13,
     "metadata": {},
     "output_type": "execute_result"
    }
   ],
   "source": [
    "# we will map the months and days columns to an equivalent integer for sorting purposes\n",
    "# create dictionaries - https://www.geeksforgeeks.org/replacing-strings-with-numbers-in-python-for-data-analysis/\n",
    "\n",
    "MonthClaimed_dict = {'Jan': 1, 'Feb': 2, 'Mar': 3, 'Apr': 4, 'May': 5, 'Jun': 6, 'Jul': 7, 'Aug': 8, 'Sep': 9, 'Oct': 10, 'Nov': 11, 'Dec': 12}\n",
    "DayOfWeekClaimed_dict = {'Monday': 1, 'Tuesday': 2, 'Wednesday': 3, 'Thursday': 4, 'Friday': 5, 'Saturday': 6, 'Sunday': 7}\n",
    "\n",
    "# iterate the column which requires the mapping in the dataframe, get the current iterated month, fetch it in the dictionary, retrieve the mapping from the dictionary and place it in\n",
    "# a new column in the same dataset\n",
    "sorted_data['MonthClaimed_int'] = [MonthClaimed_dict[month] for month in sorted_data.MonthClaimed]\n",
    "sorted_data['DayOfWeekClaimed_int'] = [DayOfWeekClaimed_dict[day] for day in sorted_data.DayOfWeekClaimed]\n",
    "\n",
    "sorted_data.head()\n",
    "\n",
    "# mapping applied"
   ]
  },
  {
   "cell_type": "code",
   "execution_count": 14,
   "metadata": {},
   "outputs": [
    {
     "data": {
      "text/html": [
       "<div>\n",
       "<style scoped>\n",
       "    .dataframe tbody tr th:only-of-type {\n",
       "        vertical-align: middle;\n",
       "    }\n",
       "\n",
       "    .dataframe tbody tr th {\n",
       "        vertical-align: top;\n",
       "    }\n",
       "\n",
       "    .dataframe thead th {\n",
       "        text-align: right;\n",
       "    }\n",
       "</style>\n",
       "<table border=\"1\" class=\"dataframe\">\n",
       "  <thead>\n",
       "    <tr style=\"text-align: right;\">\n",
       "      <th></th>\n",
       "      <th>Month</th>\n",
       "      <th>WeekOfMonth</th>\n",
       "      <th>DayOfWeek</th>\n",
       "      <th>Make</th>\n",
       "      <th>AccidentArea</th>\n",
       "      <th>DayOfWeekClaimed</th>\n",
       "      <th>MonthClaimed</th>\n",
       "      <th>WeekOfMonthClaimed</th>\n",
       "      <th>Sex</th>\n",
       "      <th>MaritalStatus</th>\n",
       "      <th>...</th>\n",
       "      <th>PoliceReportFiled</th>\n",
       "      <th>WitnessPresent</th>\n",
       "      <th>AgentType</th>\n",
       "      <th>NumberOfSuppliments</th>\n",
       "      <th>AddressChange_Claim</th>\n",
       "      <th>NumberOfCars</th>\n",
       "      <th>Year</th>\n",
       "      <th>BasePolicy</th>\n",
       "      <th>MonthClaimed_int</th>\n",
       "      <th>DayOfWeekClaimed_int</th>\n",
       "    </tr>\n",
       "  </thead>\n",
       "  <tbody>\n",
       "    <tr>\n",
       "      <th>76</th>\n",
       "      <td>Oct</td>\n",
       "      <td>4</td>\n",
       "      <td>Tuesday</td>\n",
       "      <td>Chevrolet</td>\n",
       "      <td>Urban</td>\n",
       "      <td>Monday</td>\n",
       "      <td>Jan</td>\n",
       "      <td>1</td>\n",
       "      <td>Male</td>\n",
       "      <td>Married</td>\n",
       "      <td>...</td>\n",
       "      <td>No</td>\n",
       "      <td>No</td>\n",
       "      <td>External</td>\n",
       "      <td>none</td>\n",
       "      <td>no change</td>\n",
       "      <td>1 vehicle</td>\n",
       "      <td>1994</td>\n",
       "      <td>All Perils</td>\n",
       "      <td>1</td>\n",
       "      <td>1</td>\n",
       "    </tr>\n",
       "    <tr>\n",
       "      <th>84</th>\n",
       "      <td>Dec</td>\n",
       "      <td>1</td>\n",
       "      <td>Wednesday</td>\n",
       "      <td>Honda</td>\n",
       "      <td>Urban</td>\n",
       "      <td>Monday</td>\n",
       "      <td>Jan</td>\n",
       "      <td>1</td>\n",
       "      <td>Male</td>\n",
       "      <td>Single</td>\n",
       "      <td>...</td>\n",
       "      <td>No</td>\n",
       "      <td>No</td>\n",
       "      <td>External</td>\n",
       "      <td>none</td>\n",
       "      <td>4 to 8 years</td>\n",
       "      <td>2 vehicles</td>\n",
       "      <td>1994</td>\n",
       "      <td>Liability</td>\n",
       "      <td>1</td>\n",
       "      <td>1</td>\n",
       "    </tr>\n",
       "    <tr>\n",
       "      <th>188</th>\n",
       "      <td>Jan</td>\n",
       "      <td>1</td>\n",
       "      <td>Saturday</td>\n",
       "      <td>Chevrolet</td>\n",
       "      <td>Urban</td>\n",
       "      <td>Monday</td>\n",
       "      <td>Jan</td>\n",
       "      <td>1</td>\n",
       "      <td>Male</td>\n",
       "      <td>Married</td>\n",
       "      <td>...</td>\n",
       "      <td>No</td>\n",
       "      <td>No</td>\n",
       "      <td>External</td>\n",
       "      <td>more than 5</td>\n",
       "      <td>no change</td>\n",
       "      <td>1 vehicle</td>\n",
       "      <td>1994</td>\n",
       "      <td>Liability</td>\n",
       "      <td>1</td>\n",
       "      <td>1</td>\n",
       "    </tr>\n",
       "    <tr>\n",
       "      <th>189</th>\n",
       "      <td>Dec</td>\n",
       "      <td>2</td>\n",
       "      <td>Monday</td>\n",
       "      <td>Mazda</td>\n",
       "      <td>Urban</td>\n",
       "      <td>Monday</td>\n",
       "      <td>Jan</td>\n",
       "      <td>1</td>\n",
       "      <td>Male</td>\n",
       "      <td>Married</td>\n",
       "      <td>...</td>\n",
       "      <td>No</td>\n",
       "      <td>No</td>\n",
       "      <td>External</td>\n",
       "      <td>none</td>\n",
       "      <td>4 to 8 years</td>\n",
       "      <td>2 vehicles</td>\n",
       "      <td>1994</td>\n",
       "      <td>All Perils</td>\n",
       "      <td>1</td>\n",
       "      <td>1</td>\n",
       "    </tr>\n",
       "    <tr>\n",
       "      <th>194</th>\n",
       "      <td>Dec</td>\n",
       "      <td>3</td>\n",
       "      <td>Thursday</td>\n",
       "      <td>Honda</td>\n",
       "      <td>Urban</td>\n",
       "      <td>Monday</td>\n",
       "      <td>Jan</td>\n",
       "      <td>1</td>\n",
       "      <td>Male</td>\n",
       "      <td>Married</td>\n",
       "      <td>...</td>\n",
       "      <td>No</td>\n",
       "      <td>No</td>\n",
       "      <td>External</td>\n",
       "      <td>none</td>\n",
       "      <td>no change</td>\n",
       "      <td>1 vehicle</td>\n",
       "      <td>1994</td>\n",
       "      <td>Collision</td>\n",
       "      <td>1</td>\n",
       "      <td>1</td>\n",
       "    </tr>\n",
       "  </tbody>\n",
       "</table>\n",
       "<p>5 rows × 35 columns</p>\n",
       "</div>"
      ],
      "text/plain": [
       "    Month  WeekOfMonth  DayOfWeek       Make AccidentArea DayOfWeekClaimed  \\\n",
       "76    Oct            4    Tuesday  Chevrolet        Urban           Monday   \n",
       "84    Dec            1  Wednesday      Honda        Urban           Monday   \n",
       "188   Jan            1   Saturday  Chevrolet        Urban           Monday   \n",
       "189   Dec            2     Monday      Mazda        Urban           Monday   \n",
       "194   Dec            3   Thursday      Honda        Urban           Monday   \n",
       "\n",
       "    MonthClaimed  WeekOfMonthClaimed   Sex MaritalStatus  ...  \\\n",
       "76           Jan                   1  Male       Married  ...   \n",
       "84           Jan                   1  Male        Single  ...   \n",
       "188          Jan                   1  Male       Married  ...   \n",
       "189          Jan                   1  Male       Married  ...   \n",
       "194          Jan                   1  Male       Married  ...   \n",
       "\n",
       "     PoliceReportFiled WitnessPresent AgentType NumberOfSuppliments  \\\n",
       "76                  No             No  External                none   \n",
       "84                  No             No  External                none   \n",
       "188                 No             No  External         more than 5   \n",
       "189                 No             No  External                none   \n",
       "194                 No             No  External                none   \n",
       "\n",
       "    AddressChange_Claim  NumberOfCars  Year  BasePolicy  MonthClaimed_int  \\\n",
       "76            no change     1 vehicle  1994  All Perils                 1   \n",
       "84         4 to 8 years    2 vehicles  1994   Liability                 1   \n",
       "188           no change     1 vehicle  1994   Liability                 1   \n",
       "189        4 to 8 years    2 vehicles  1994  All Perils                 1   \n",
       "194           no change     1 vehicle  1994   Collision                 1   \n",
       "\n",
       "     DayOfWeekClaimed_int  \n",
       "76                      1  \n",
       "84                      1  \n",
       "188                     1  \n",
       "189                     1  \n",
       "194                     1  \n",
       "\n",
       "[5 rows x 35 columns]"
      ]
     },
     "execution_count": 14,
     "metadata": {},
     "output_type": "execute_result"
    }
   ],
   "source": [
    "# store a new data set which is sorted first with Year -> MonthClaimed -> WeekOfMonthClaimed -> DayOfWeekClaimed (all in ascending order)\n",
    "sorted_data = sorted_data.sort_values(['Year', 'MonthClaimed_int', 'WeekOfMonthClaimed', 'DayOfWeekClaimed_int'], ascending=[True, True, True, True], inplace = False)\n",
    "\n",
    "# store the dataset as CSV\n",
    "sorted_data.to_csv(os.getcwd() + '/../Dataset/fraud_oracle_sorted.csv')\n",
    "\n",
    "sorted_data.head()"
   ]
  },
  {
   "cell_type": "code",
   "execution_count": null,
   "metadata": {},
   "outputs": [],
   "source": [
    "# now we collect the number of fraudulent claims per year and then month so that we can plot"
   ]
  }
 ],
 "metadata": {
  "kernelspec": {
   "display_name": "Python 3",
   "language": "python",
   "name": "python3"
  },
  "language_info": {
   "codemirror_mode": {
    "name": "ipython",
    "version": 3
   },
   "file_extension": ".py",
   "mimetype": "text/x-python",
   "name": "python",
   "nbconvert_exporter": "python",
   "pygments_lexer": "ipython3",
   "version": "3.7.3"
  }
 },
 "nbformat": 4,
 "nbformat_minor": 4
}
