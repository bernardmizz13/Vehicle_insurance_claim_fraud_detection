{
 "cells": [
  {
   "cell_type": "markdown",
   "metadata": {},
   "source": [
    "# Data segmentation"
   ]
  },
  {
   "cell_type": "markdown",
   "metadata": {},
   "source": [
    "In this notebook we combine data segmentation and classification methods."
   ]
  },
  {
   "cell_type": "code",
   "execution_count": 1,
   "metadata": {},
   "outputs": [
    {
     "name": "stdout",
     "output_type": "stream",
     "text": [
      "Initialized logger\n",
      "File name time is 2023-09-25_19_02_16_028\n"
     ]
    },
    {
     "name": "stderr",
     "output_type": "stream",
     "text": [
      "C:\\Users\\berna\\Anaconda3\\lib\\site-packages\\sklearn\\utils\\deprecation.py:144: FutureWarning: The sklearn.tree.export module is  deprecated in version 0.22 and will be removed in version 0.24. The corresponding classes / functions should instead be imported from sklearn.tree. Anything that cannot be imported from sklearn.tree is now part of the private API.\n",
      "  warnings.warn(message, FutureWarning)\n"
     ]
    }
   ],
   "source": [
    "# os.getcwd() + '/../Dataset/fraud_oracle.csv'\n",
    "\n",
    "# to retrieve files\n",
    "import os.path\n",
    "# for logging purposes\n",
    "import logging\n",
    "# for mathematical calculations on lists and dataframes\n",
    "import numpy as np\n",
    "# for CSV and dataframe operations\n",
    "import pandas as pd\n",
    "# for plots\n",
    "import matplotlib.pyplot as plt\n",
    "# for mathematical calculations\n",
    "import math\n",
    "# import the label encoder from sklearn\n",
    "from sklearn.preprocessing import LabelEncoder\n",
    "# for training and testing split\n",
    "from sklearn.model_selection import train_test_split\n",
    "# for the decision tree\n",
    "from sklearn.tree import DecisionTreeClassifier\n",
    "# to export and save it to JPG later on\n",
    "from sklearn.tree import export_graphviz\n",
    "# to export the tree structure\n",
    "from sklearn.tree.export import export_text\n",
    "# to save the log file name\n",
    "from datetime import datetime\n",
    "\n",
    "file_name_time = datetime.utcnow().strftime('%Y-%m-%d_%H_%M_%S_%f')[:-3]\n",
    "\n",
    "__file__ = 'Data_segmentation_' + file_name_time\n",
    "\n",
    "# initializing the logger\n",
    "logging.basicConfig(filename=os.getcwd() + '/../Log_files/' + __file__ + '.log',\n",
    "                    filemode='a',\n",
    "                    format='%(asctime)s %(levelname)s %(message)s',\n",
    "                    datefmt='%H:%M:%S',\n",
    "                    level=logging.DEBUG)\n",
    "\n",
    "logging.info(\"Initialized logger\")\n",
    "print(\"Initialized logger\")\n",
    "\n",
    "logging.info(\"File name time is \" + file_name_time)\n",
    "print(\"File name time is\", file_name_time)\n",
    "\n",
    "logging.info(\"#### Run started ####\")"
   ]
  },
  {
   "cell_type": "code",
   "execution_count": 2,
   "metadata": {},
   "outputs": [],
   "source": [
    "# Read the sorted data\n",
    "data = pd.read_csv(os.getcwd() + '/../Dataset/fraud_oracle.csv')"
   ]
  },
  {
   "cell_type": "code",
   "execution_count": 3,
   "metadata": {},
   "outputs": [],
   "source": [
    "# The top 5 most important features were identified to be:\n",
    "# Age\n",
    "# Month\n",
    "# BasePolicy\n",
    "# Fault\n",
    "# Make"
   ]
  },
  {
   "cell_type": "code",
   "execution_count": 4,
   "metadata": {},
   "outputs": [],
   "source": [
    "# storing the value counts\n",
    "vc = data.Age.value_counts()\n",
    "\n",
    "# convert the value counts to a list\n",
    "list_vc = vc.tolist()\n",
    "list_vc\n",
    "\n",
    "# convert the value counts to another list\n",
    "vc_numbers_list = vc.to_list()\n",
    "\n",
    "# get the total number of claims in the dataset\n",
    "total = data.shape[0]\n",
    "\n",
    "# convert the value counts to percentage of the total number of claims\n",
    "list_vc = [round(l/total * 100, 2) for l in list_vc]"
   ]
  },
  {
   "cell_type": "code",
   "execution_count": 7,
   "metadata": {},
   "outputs": [],
   "source": [
    "# getting the labels\n",
    "s = vc.index.tolist()"
   ]
  },
  {
   "cell_type": "code",
   "execution_count": 5,
   "metadata": {},
   "outputs": [],
   "source": [
    "logging.info(\"#### Run finished ####\")\n",
    "\n",
    "# close the logger\n",
    "logging.shutdown()"
   ]
  },
  {
   "cell_type": "code",
   "execution_count": 10,
   "metadata": {},
   "outputs": [],
   "source": [
    "# setting the x-axis and printing it\n",
    "yax = [str(text) + ', ' + str(occ) + ', ' + str(perc) + '%' for text, occ, perc in zip(s, vc_numbers_list, list_vc)]"
   ]
  },
  {
   "cell_type": "code",
   "execution_count": 44,
   "metadata": {},
   "outputs": [
    {
     "data": {
      "image/png": "[encoded data removed]",
      "text/plain": [
       "<Figure size 432x288 with 1 Axes>"
      ]
     },
     "metadata": {
      "needs_background": "light"
     },
     "output_type": "display_data"
    }
   ],
   "source": [
    "ticks = yax\n",
    "data_for_plotting = list_vc\n",
    "ind = np.arange(len(data_for_plotting))\n",
    "fig = plt.figure(tight_layout=True) # need tight_layout to make everything fit\n",
    "ax = plt.subplot(1, 1, 1)\n",
    "ax.bar(ind, data_for_plotting, 0.3, align='center', label=\"%\")\n",
    "# plt.legend() - legend is useless in this plot\n",
    "plt.title('Fradulent and non-fradulent vehicle insurance claims')\n",
    "y_pos = range(len(yax))\n",
    "plt.xticks(y_pos, yax)\n",
    "plt.draw()  # this is needed because get_window_extent needs a renderer to work\n",
    "plt.savefig(os.getcwd() + '/../Plots/age_value_counts_' + file_name_time + '.png')\n",
    "plt.draw()\n",
    "plt.show()"
   ]
  }
 ],
 "metadata": {
  "kernelspec": {
   "display_name": "Python 3",
   "language": "python",
   "name": "python3"
  },
  "language_info": {
   "codemirror_mode": {
    "name": "ipython",
    "version": 3
   },
   "file_extension": ".py",
   "mimetype": "text/x-python",
   "name": "python",
   "nbconvert_exporter": "python",
   "pygments_lexer": "ipython3",
   "version": "3.7.3"
  }
 },
 "nbformat": 4,
 "nbformat_minor": 4
}
