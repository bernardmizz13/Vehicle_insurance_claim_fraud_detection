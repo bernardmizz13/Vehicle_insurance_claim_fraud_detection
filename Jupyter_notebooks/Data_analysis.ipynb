{
 "cells": [
  {
   "cell_type": "markdown",
   "metadata": {},
   "source": [
    "# Data analysis"
   ]
  },
  {
   "cell_type": "markdown",
   "metadata": {},
   "source": [
    "## 1. Necessary imports"
   ]
  },
  {
   "cell_type": "code",
   "execution_count": 1,
   "metadata": {},
   "outputs": [],
   "source": [
    "# to retrieve files\n",
    "import os.path\n",
    "# for mathematical calculations\n",
    "import numpy as np\n",
    "# for CSV and dataframe operations\n",
    "import pandas as pd\n",
    "# for plots\n",
    "import matplotlib.pyplot as plt"
   ]
  },
  {
   "cell_type": "markdown",
   "metadata": {},
   "source": [
    "## 2. Reading the data"
   ]
  },
  {
   "cell_type": "code",
   "execution_count": 2,
   "metadata": {},
   "outputs": [
    {
     "name": "stdout",
     "output_type": "stream",
     "text": [
      "C:\\Users\\berna\\Google Drive\\Work\\Research_collab\\Github_repositories\\Vehicle_insurance_claim_fraud_detection\\Jupyter_notebooks\n"
     ]
    }
   ],
   "source": [
    "# get the current working directory\n",
    "print(os.getcwd())"
   ]
  },
  {
   "cell_type": "code",
   "execution_count": 3,
   "metadata": {},
   "outputs": [
    {
     "name": "stdout",
     "output_type": "stream",
     "text": [
      "  Month  WeekOfMonth  DayOfWeek    Make AccidentArea DayOfWeekClaimed  \\\n",
      "0   Dec            5  Wednesday   Honda        Urban          Tuesday   \n",
      "1   Jan            3  Wednesday   Honda        Urban           Monday   \n",
      "2   Oct            5     Friday   Honda        Urban         Thursday   \n",
      "3   Jun            2   Saturday  Toyota        Rural           Friday   \n",
      "4   Jan            5     Monday   Honda        Urban          Tuesday   \n",
      "\n",
      "  MonthClaimed  WeekOfMonthClaimed     Sex MaritalStatus  ...  AgeOfVehicle  \\\n",
      "0          Jan                   1  Female        Single  ...       3 years   \n",
      "1          Jan                   4    Male        Single  ...       6 years   \n",
      "2          Nov                   2    Male       Married  ...       7 years   \n",
      "3          Jul                   1    Male       Married  ...   more than 7   \n",
      "4          Feb                   2  Female        Single  ...       5 years   \n",
      "\n",
      "  AgeOfPolicyHolder PoliceReportFiled WitnessPresent AgentType  \\\n",
      "0          26 to 30                No             No  External   \n",
      "1          31 to 35               Yes             No  External   \n",
      "2          41 to 50                No             No  External   \n",
      "3          51 to 65               Yes             No  External   \n",
      "4          31 to 35                No             No  External   \n",
      "\n",
      "   NumberOfSuppliments  AddressChange_Claim  NumberOfCars  Year  BasePolicy  \n",
      "0                 none               1 year        3 to 4  1994   Liability  \n",
      "1                 none            no change     1 vehicle  1994   Collision  \n",
      "2                 none            no change     1 vehicle  1994   Collision  \n",
      "3          more than 5            no change     1 vehicle  1994   Liability  \n",
      "4                 none            no change     1 vehicle  1994   Collision  \n",
      "\n",
      "[5 rows x 33 columns]\n"
     ]
    }
   ],
   "source": [
    "# reading the dataset stored as CSV\n",
    "data = pd.read_csv(os.getcwd() + '/../Dataset/fraud_oracle.csv')\n",
    "\n",
    "# printing the first 5 rows of the dataframe\n",
    "print(data.head())"
   ]
  },
  {
   "cell_type": "markdown",
   "metadata": {},
   "source": [
    "## 3. Showing class imbalance"
   ]
  },
  {
   "cell_type": "code",
   "execution_count": 4,
   "metadata": {},
   "outputs": [
    {
     "data": {
      "text/plain": [
       "0    14497\n",
       "1      923\n",
       "Name: FraudFound_P, dtype: int64"
      ]
     },
     "execution_count": 4,
     "metadata": {},
     "output_type": "execute_result"
    }
   ],
   "source": [
    "# get the value counts\n",
    "data['FraudFound_P'].value_counts()"
   ]
  },
  {
   "cell_type": "code",
   "execution_count": 5,
   "metadata": {},
   "outputs": [
    {
     "data": {
      "text/plain": [
       "[94.01, 5.99]"
      ]
     },
     "execution_count": 5,
     "metadata": {},
     "output_type": "execute_result"
    }
   ],
   "source": [
    "# storing the value counts\n",
    "vc = data.FraudFound_P.value_counts()\n",
    "\n",
    "# convert the value counts to a list\n",
    "list_vc = vc.tolist()\n",
    "list_vc\n",
    "\n",
    "# convert the value counts to another list\n",
    "vc_numbers_list = vc.to_list()\n",
    "\n",
    "# get the total number of claims in the dataset\n",
    "total = data.shape[0]\n",
    "\n",
    "# convert the value counts to percentage of the total number of claims\n",
    "list_vc = [round(l/total * 100, 2) for l in list_vc]\n",
    "list_vc"
   ]
  },
  {
   "cell_type": "code",
   "execution_count": 6,
   "metadata": {},
   "outputs": [
    {
     "data": {
      "text/plain": [
       "[0, 1]"
      ]
     },
     "execution_count": 6,
     "metadata": {},
     "output_type": "execute_result"
    }
   ],
   "source": [
    "# getting the labels\n",
    "s = vc.index.tolist()\n",
    "s"
   ]
  },
  {
   "cell_type": "code",
   "execution_count": 7,
   "metadata": {},
   "outputs": [],
   "source": [
    "# setting new labels for plotting purposes only\n",
    "s = ['Non_fraudulent', 'Fraudulent']"
   ]
  },
  {
   "cell_type": "code",
   "execution_count": 8,
   "metadata": {},
   "outputs": [
    {
     "data": {
      "text/plain": [
       "['Non_fraudulent, 14497, 94.01%', 'Fraudulent, 923, 5.99%']"
      ]
     },
     "execution_count": 8,
     "metadata": {},
     "output_type": "execute_result"
    }
   ],
   "source": [
    "# setting the x-axis\n",
    "yax = [text + ', ' + str(occ) + ', ' + str(perc) + '%' for text, occ, perc in zip(s, vc_numbers_list, list_vc)]\n",
    "yax"
   ]
  },
  {
   "cell_type": "code",
   "execution_count": 12,
   "metadata": {},
   "outputs": [
    {
     "data": {
      "image/png": "[encoded data removed]",
      "text/plain": [
       "<Figure size 432x288 with 1 Axes>"
      ]
     },
     "metadata": {
      "needs_background": "light"
     },
     "output_type": "display_data"
    }
   ],
   "source": [
    "ticks = yax\n",
    "data_for_plotting = list_vc\n",
    "ind = np.arange(len(data_for_plotting))\n",
    "fig = plt.figure(tight_layout=True) # need tight_layout to make everything fit\n",
    "ax = plt.subplot(111)\n",
    "ax.bar(ind, data_for_plotting, 0.3, align='center', label=\"%\")\n",
    "plt.legend()\n",
    "plt.title('Fradulent and non-fradulent vehicle insurance claims')\n",
    "y_pos = range(len(yax))\n",
    "plt.xticks(y_pos, yax)\n",
    "plt.draw()  # this is needed because get_window_extent needs a renderer to work\n",
    "plt.savefig('Plots/claims_labels.png')\n",
    "plt.draw()\n",
    "plt.show()"
   ]
  },
  {
   "cell_type": "code",
   "execution_count": null,
   "metadata": {},
   "outputs": [],
   "source": []
  }
 ],
 "metadata": {
  "kernelspec": {
   "display_name": "Python 3",
   "language": "python",
   "name": "python3"
  },
  "language_info": {
   "codemirror_mode": {
    "name": "ipython",
    "version": 3
   },
   "file_extension": ".py",
   "mimetype": "text/x-python",
   "name": "python",
   "nbconvert_exporter": "python",
   "pygments_lexer": "ipython3",
   "version": "3.7.3"
  }
 },
 "nbformat": 4,
 "nbformat_minor": 4
}
