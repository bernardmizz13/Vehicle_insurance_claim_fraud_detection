{
 "cells": [
  {
   "cell_type": "markdown",
   "metadata": {},
   "source": [
    "# Data analysis"
   ]
  },
  {
   "cell_type": "markdown",
   "metadata": {},
   "source": [
    "## 1. Necessary imports"
   ]
  },
  {
   "cell_type": "code",
   "execution_count": 1,
   "metadata": {},
   "outputs": [
    {
     "name": "stdout",
     "output_type": "stream",
     "text": [
      "Initialized logger\n"
     ]
    },
    {
     "name": "stderr",
     "output_type": "stream",
     "text": [
      "C:\\Users\\berna\\Anaconda3\\lib\\site-packages\\sklearn\\utils\\deprecation.py:144: FutureWarning: The sklearn.tree.export module is  deprecated in version 0.22 and will be removed in version 0.24. The corresponding classes / functions should instead be imported from sklearn.tree. Anything that cannot be imported from sklearn.tree is now part of the private API.\n",
      "  warnings.warn(message, FutureWarning)\n"
     ]
    }
   ],
   "source": [
    "# to retrieve files\n",
    "import os.path\n",
    "# for logging purposes\n",
    "import logging\n",
    "# for mathematical calculations on lists and dataframes\n",
    "import numpy as np\n",
    "# for CSV and dataframe operations\n",
    "import pandas as pd\n",
    "# for plots\n",
    "import matplotlib.pyplot as plt\n",
    "# for mathematical calculations\n",
    "import math\n",
    "# import the label encoder from sklearn\n",
    "from sklearn.preprocessing import LabelEncoder\n",
    "# for training and testing split\n",
    "from sklearn.model_selection import train_test_split\n",
    "# for the decision tree\n",
    "from sklearn.tree import DecisionTreeClassifier\n",
    "# to export and save it to JPG later on\n",
    "from sklearn.tree import export_graphviz\n",
    "# to export the tree structure\n",
    "from sklearn.tree.export import export_text\n",
    "# to save the log file name\n",
    "from datetime import datetime\n",
    "\n",
    "file_name_time = datetime.utcnow().strftime('%Y-%m-%d_%H_%M_%S_%f')[:-3]\n",
    "\n",
    "__file__ = 'Data_analysis_' + file_name_time\n",
    "\n",
    "# initializing the logger\n",
    "logging.basicConfig(filename=os.path.realpath(__file__) + '.log',\n",
    "                    filemode='a',\n",
    "                    format='%(asctime)s %(levelname)s %(message)s',\n",
    "                    datefmt='%H:%M:%S',\n",
    "                    level=logging.DEBUG)\n",
    "\n",
    "logging.info(\"Initialized logger\")\n",
    "print(\"Initialized logger\")\n",
    "\n",
    "logging.info(\"#### Run started ####\")"
   ]
  },
  {
   "cell_type": "markdown",
   "metadata": {},
   "source": [
    "## 2. Reading the data"
   ]
  },
  {
   "cell_type": "code",
   "execution_count": 2,
   "metadata": {},
   "outputs": [
    {
     "name": "stdout",
     "output_type": "stream",
     "text": [
      "C:\\Users\\berna\\Google Drive\\Work\\Research_collab\\Github_repositories\\Vehicle_insurance_claim_fraud_detection\\Jupyter_notebooks\n"
     ]
    }
   ],
   "source": [
    "# get the current working directory\n",
    "print(os.getcwd())"
   ]
  },
  {
   "cell_type": "code",
   "execution_count": 3,
   "metadata": {},
   "outputs": [
    {
     "name": "stdout",
     "output_type": "stream",
     "text": [
      "  Month  WeekOfMonth  DayOfWeek    Make AccidentArea DayOfWeekClaimed  \\\n",
      "0   Dec            5  Wednesday   Honda        Urban          Tuesday   \n",
      "1   Jan            3  Wednesday   Honda        Urban           Monday   \n",
      "2   Oct            5     Friday   Honda        Urban         Thursday   \n",
      "3   Jun            2   Saturday  Toyota        Rural           Friday   \n",
      "4   Jan            5     Monday   Honda        Urban          Tuesday   \n",
      "\n",
      "  MonthClaimed  WeekOfMonthClaimed     Sex MaritalStatus  ...  AgeOfVehicle  \\\n",
      "0          Jan                   1  Female        Single  ...       3 years   \n",
      "1          Jan                   4    Male        Single  ...       6 years   \n",
      "2          Nov                   2    Male       Married  ...       7 years   \n",
      "3          Jul                   1    Male       Married  ...   more than 7   \n",
      "4          Feb                   2  Female        Single  ...       5 years   \n",
      "\n",
      "  AgeOfPolicyHolder PoliceReportFiled WitnessPresent AgentType  \\\n",
      "0          26 to 30                No             No  External   \n",
      "1          31 to 35               Yes             No  External   \n",
      "2          41 to 50                No             No  External   \n",
      "3          51 to 65               Yes             No  External   \n",
      "4          31 to 35                No             No  External   \n",
      "\n",
      "   NumberOfSuppliments  AddressChange_Claim  NumberOfCars  Year  BasePolicy  \n",
      "0                 none               1 year        3 to 4  1994   Liability  \n",
      "1                 none            no change     1 vehicle  1994   Collision  \n",
      "2                 none            no change     1 vehicle  1994   Collision  \n",
      "3          more than 5            no change     1 vehicle  1994   Liability  \n",
      "4                 none            no change     1 vehicle  1994   Collision  \n",
      "\n",
      "[5 rows x 33 columns]\n"
     ]
    }
   ],
   "source": [
    "# reading the dataset stored as CSV\n",
    "data = pd.read_csv(os.getcwd() + '/../Dataset/fraud_oracle.csv')\n",
    "\n",
    "# printing the first 5 rows of the dataframe\n",
    "print(data.head())"
   ]
  },
  {
   "cell_type": "markdown",
   "metadata": {},
   "source": [
    "## 3. Showing class imbalance"
   ]
  },
  {
   "cell_type": "code",
   "execution_count": 4,
   "metadata": {},
   "outputs": [
    {
     "name": "stdout",
     "output_type": "stream",
     "text": [
      "0    14497\n",
      "1      923\n",
      "Name: FraudFound_P, dtype: int64\n",
      "\n",
      "No. of records: 15420\n"
     ]
    }
   ],
   "source": [
    "# get the value counts\n",
    "print(data['FraudFound_P'].value_counts())\n",
    "\n",
    "print('\\nNo. of records:', data.shape[0])"
   ]
  },
  {
   "cell_type": "code",
   "execution_count": 5,
   "metadata": {},
   "outputs": [
    {
     "data": {
      "text/plain": [
       "[94.01, 5.99]"
      ]
     },
     "execution_count": 5,
     "metadata": {},
     "output_type": "execute_result"
    }
   ],
   "source": [
    "# storing the value counts\n",
    "vc = data.FraudFound_P.value_counts()\n",
    "\n",
    "# convert the value counts to a list\n",
    "list_vc = vc.tolist()\n",
    "list_vc\n",
    "\n",
    "# convert the value counts to another list\n",
    "vc_numbers_list = vc.to_list()\n",
    "\n",
    "# get the total number of claims in the dataset\n",
    "total = data.shape[0]\n",
    "\n",
    "# convert the value counts to percentage of the total number of claims\n",
    "list_vc = [round(l/total * 100, 2) for l in list_vc]\n",
    "list_vc"
   ]
  },
  {
   "cell_type": "code",
   "execution_count": 6,
   "metadata": {},
   "outputs": [
    {
     "data": {
      "text/plain": [
       "[0, 1]"
      ]
     },
     "execution_count": 6,
     "metadata": {},
     "output_type": "execute_result"
    }
   ],
   "source": [
    "# getting the labels\n",
    "s = vc.index.tolist()\n",
    "s"
   ]
  },
  {
   "cell_type": "code",
   "execution_count": 7,
   "metadata": {},
   "outputs": [],
   "source": [
    "# setting new labels for plotting purposes only\n",
    "s = ['Non_fraudulent', 'Fraudulent']"
   ]
  },
  {
   "cell_type": "code",
   "execution_count": 8,
   "metadata": {},
   "outputs": [
    {
     "data": {
      "text/plain": [
       "['Non_fraudulent, 14497, 94.01%', 'Fraudulent, 923, 5.99%']"
      ]
     },
     "execution_count": 8,
     "metadata": {},
     "output_type": "execute_result"
    }
   ],
   "source": [
    "# setting the x-axis and printing it\n",
    "yax = [text + ', ' + str(occ) + ', ' + str(perc) + '%' for text, occ, perc in zip(s, vc_numbers_list, list_vc)]\n",
    "yax"
   ]
  },
  {
   "cell_type": "code",
   "execution_count": 9,
   "metadata": {},
   "outputs": [
    {
     "data": {
      "image/png": "[encoded data removed]",
      "text/plain": [
       "<Figure size 432x288 with 1 Axes>"
      ]
     },
     "metadata": {
      "needs_background": "light"
     },
     "output_type": "display_data"
    }
   ],
   "source": [
    "ticks = yax\n",
    "data_for_plotting = list_vc\n",
    "ind = np.arange(len(data_for_plotting))\n",
    "fig = plt.figure(tight_layout=True) # need tight_layout to make everything fit\n",
    "ax = plt.subplot(111)\n",
    "ax.bar(ind, data_for_plotting, 0.3, align='center', label=\"%\")\n",
    "# plt.legend() - legend is useless in this plot\n",
    "plt.title('Fradulent and non-fradulent vehicle insurance claims')\n",
    "y_pos = range(len(yax))\n",
    "plt.xticks(y_pos, yax)\n",
    "plt.draw()  # this is needed because get_window_extent needs a renderer to work\n",
    "plt.savefig(os.getcwd() + '/../Plots/claims_labels' + file_name_time + '.png')\n",
    "plt.draw()\n",
    "plt.show()"
   ]
  },
  {
   "cell_type": "markdown",
   "metadata": {},
   "source": [
    "## 4. Identifying outliers"
   ]
  },
  {
   "cell_type": "markdown",
   "metadata": {},
   "source": [
    "https://careerfoundry.com/en/blog/data-analytics/how-to-find-outliers/"
   ]
  },
  {
   "cell_type": "code",
   "execution_count": 10,
   "metadata": {},
   "outputs": [
    {
     "data": {
      "text/html": [
       "<div>\n",
       "<style scoped>\n",
       "    .dataframe tbody tr th:only-of-type {\n",
       "        vertical-align: middle;\n",
       "    }\n",
       "\n",
       "    .dataframe tbody tr th {\n",
       "        vertical-align: top;\n",
       "    }\n",
       "\n",
       "    .dataframe thead th {\n",
       "        text-align: right;\n",
       "    }\n",
       "</style>\n",
       "<table border=\"1\" class=\"dataframe\">\n",
       "  <thead>\n",
       "    <tr style=\"text-align: right;\">\n",
       "      <th></th>\n",
       "      <th>Age</th>\n",
       "      <th>DriverRating</th>\n",
       "    </tr>\n",
       "  </thead>\n",
       "  <tbody>\n",
       "    <tr>\n",
       "      <th>count</th>\n",
       "      <td>15420.000000</td>\n",
       "      <td>15420.000000</td>\n",
       "    </tr>\n",
       "    <tr>\n",
       "      <th>mean</th>\n",
       "      <td>39.855707</td>\n",
       "      <td>2.487808</td>\n",
       "    </tr>\n",
       "    <tr>\n",
       "      <th>std</th>\n",
       "      <td>13.492377</td>\n",
       "      <td>1.119453</td>\n",
       "    </tr>\n",
       "    <tr>\n",
       "      <th>min</th>\n",
       "      <td>0.000000</td>\n",
       "      <td>1.000000</td>\n",
       "    </tr>\n",
       "    <tr>\n",
       "      <th>25%</th>\n",
       "      <td>31.000000</td>\n",
       "      <td>1.000000</td>\n",
       "    </tr>\n",
       "    <tr>\n",
       "      <th>50%</th>\n",
       "      <td>38.000000</td>\n",
       "      <td>2.000000</td>\n",
       "    </tr>\n",
       "    <tr>\n",
       "      <th>75%</th>\n",
       "      <td>48.000000</td>\n",
       "      <td>3.000000</td>\n",
       "    </tr>\n",
       "    <tr>\n",
       "      <th>max</th>\n",
       "      <td>80.000000</td>\n",
       "      <td>4.000000</td>\n",
       "    </tr>\n",
       "  </tbody>\n",
       "</table>\n",
       "</div>"
      ],
      "text/plain": [
       "                Age  DriverRating\n",
       "count  15420.000000  15420.000000\n",
       "mean      39.855707      2.487808\n",
       "std       13.492377      1.119453\n",
       "min        0.000000      1.000000\n",
       "25%       31.000000      1.000000\n",
       "50%       38.000000      2.000000\n",
       "75%       48.000000      3.000000\n",
       "max       80.000000      4.000000"
      ]
     },
     "execution_count": 10,
     "metadata": {},
     "output_type": "execute_result"
    }
   ],
   "source": [
    "# get some info about certain data\n",
    "data.describe()[['Age', 'DriverRating']]"
   ]
  },
  {
   "cell_type": "markdown",
   "metadata": {},
   "source": [
    "### This exercise was of not much help as the majority of the features are categorical, hence, we proceed with further analysis of the data."
   ]
  },
  {
   "cell_type": "markdown",
   "metadata": {},
   "source": [
    "## 5. Trying to identify concept drift"
   ]
  },
  {
   "cell_type": "code",
   "execution_count": 11,
   "metadata": {},
   "outputs": [
    {
     "name": "stdout",
     "output_type": "stream",
     "text": [
      "['Jan' 'Nov' 'Jul' 'Feb' 'Mar' 'Dec' 'Apr' 'Aug' 'May' 'Jun' 'Sep' 'Oct'\n",
      " '0']\n",
      "['Tuesday' 'Monday' 'Thursday' 'Friday' 'Wednesday' 'Saturday' 'Sunday'\n",
      " '0']\n"
     ]
    }
   ],
   "source": [
    "# first perform some pre-processing so that certain categorical features are converted to integer for sorting purposes\n",
    "\n",
    "# get each unique value of each column to be mapped\n",
    "print(data.MonthClaimed.unique())\n",
    "print(data.DayOfWeekClaimed.unique())"
   ]
  },
  {
   "cell_type": "code",
   "execution_count": 12,
   "metadata": {},
   "outputs": [
    {
     "name": "stdout",
     "output_type": "stream",
     "text": [
      "MonthClaimed: 1\n",
      "DayOfWeekClaimed: 1\n",
      "\n",
      "No. of records before deletion: 15420\n",
      "\n",
      "No. of records after deletion: 15419\n"
     ]
    }
   ],
   "source": [
    "# in the above cell we notice that there are certain errors in the data, 0 is not supposed to appear\n",
    "# thus we check how many records there are which have 0 under any of the two above mentioned columns and we remove them\n",
    "\n",
    "print('MonthClaimed:', data['MonthClaimed'].value_counts()['0'])\n",
    "print('DayOfWeekClaimed:', data['DayOfWeekClaimed'].value_counts()['0'])\n",
    "\n",
    "print('\\nNo. of records before deletion:', data.shape[0])\n",
    "\n",
    "# store new data for sorting to avoid mix ups\n",
    "data_sorted = data\n",
    "\n",
    "# remove the records with the invalid value under the specified columns\n",
    "# parameter inplace is set to False (also by default) so that we return a copy of the modified dataframe and store it\n",
    "# info retrieved from the official Pandas documentation - https://pandas.pydata.org/docs/reference/api/pandas.DataFrame.drop.html\n",
    "data_sorted = data_sorted.drop(data_sorted[data_sorted['MonthClaimed'] == '0'].index, inplace = False)\n",
    "data_sorted = data_sorted.drop(data_sorted[data_sorted['DayOfWeekClaimed'] == '0'].index, inplace = False)\n",
    "\n",
    "print('\\nNo. of records after deletion:', data_sorted.shape[0])\n",
    "\n",
    "# record removed"
   ]
  },
  {
   "cell_type": "markdown",
   "metadata": {},
   "source": [
    "### Convert month and day of the week to integers for sorting purposes."
   ]
  },
  {
   "cell_type": "code",
   "execution_count": 13,
   "metadata": {},
   "outputs": [
    {
     "data": {
      "text/html": [
       "<div>\n",
       "<style scoped>\n",
       "    .dataframe tbody tr th:only-of-type {\n",
       "        vertical-align: middle;\n",
       "    }\n",
       "\n",
       "    .dataframe tbody tr th {\n",
       "        vertical-align: top;\n",
       "    }\n",
       "\n",
       "    .dataframe thead th {\n",
       "        text-align: right;\n",
       "    }\n",
       "</style>\n",
       "<table border=\"1\" class=\"dataframe\">\n",
       "  <thead>\n",
       "    <tr style=\"text-align: right;\">\n",
       "      <th></th>\n",
       "      <th>Month</th>\n",
       "      <th>WeekOfMonth</th>\n",
       "      <th>DayOfWeek</th>\n",
       "      <th>Make</th>\n",
       "      <th>AccidentArea</th>\n",
       "      <th>DayOfWeekClaimed</th>\n",
       "      <th>MonthClaimed</th>\n",
       "      <th>WeekOfMonthClaimed</th>\n",
       "      <th>Sex</th>\n",
       "      <th>MaritalStatus</th>\n",
       "      <th>...</th>\n",
       "      <th>PoliceReportFiled</th>\n",
       "      <th>WitnessPresent</th>\n",
       "      <th>AgentType</th>\n",
       "      <th>NumberOfSuppliments</th>\n",
       "      <th>AddressChange_Claim</th>\n",
       "      <th>NumberOfCars</th>\n",
       "      <th>Year</th>\n",
       "      <th>BasePolicy</th>\n",
       "      <th>MonthClaimed_int</th>\n",
       "      <th>DayOfWeekClaimed_int</th>\n",
       "    </tr>\n",
       "  </thead>\n",
       "  <tbody>\n",
       "    <tr>\n",
       "      <th>0</th>\n",
       "      <td>Dec</td>\n",
       "      <td>5</td>\n",
       "      <td>Wednesday</td>\n",
       "      <td>Honda</td>\n",
       "      <td>Urban</td>\n",
       "      <td>Tuesday</td>\n",
       "      <td>Jan</td>\n",
       "      <td>1</td>\n",
       "      <td>Female</td>\n",
       "      <td>Single</td>\n",
       "      <td>...</td>\n",
       "      <td>No</td>\n",
       "      <td>No</td>\n",
       "      <td>External</td>\n",
       "      <td>none</td>\n",
       "      <td>1 year</td>\n",
       "      <td>3 to 4</td>\n",
       "      <td>1994</td>\n",
       "      <td>Liability</td>\n",
       "      <td>1</td>\n",
       "      <td>2</td>\n",
       "    </tr>\n",
       "    <tr>\n",
       "      <th>1</th>\n",
       "      <td>Jan</td>\n",
       "      <td>3</td>\n",
       "      <td>Wednesday</td>\n",
       "      <td>Honda</td>\n",
       "      <td>Urban</td>\n",
       "      <td>Monday</td>\n",
       "      <td>Jan</td>\n",
       "      <td>4</td>\n",
       "      <td>Male</td>\n",
       "      <td>Single</td>\n",
       "      <td>...</td>\n",
       "      <td>Yes</td>\n",
       "      <td>No</td>\n",
       "      <td>External</td>\n",
       "      <td>none</td>\n",
       "      <td>no change</td>\n",
       "      <td>1 vehicle</td>\n",
       "      <td>1994</td>\n",
       "      <td>Collision</td>\n",
       "      <td>1</td>\n",
       "      <td>1</td>\n",
       "    </tr>\n",
       "    <tr>\n",
       "      <th>2</th>\n",
       "      <td>Oct</td>\n",
       "      <td>5</td>\n",
       "      <td>Friday</td>\n",
       "      <td>Honda</td>\n",
       "      <td>Urban</td>\n",
       "      <td>Thursday</td>\n",
       "      <td>Nov</td>\n",
       "      <td>2</td>\n",
       "      <td>Male</td>\n",
       "      <td>Married</td>\n",
       "      <td>...</td>\n",
       "      <td>No</td>\n",
       "      <td>No</td>\n",
       "      <td>External</td>\n",
       "      <td>none</td>\n",
       "      <td>no change</td>\n",
       "      <td>1 vehicle</td>\n",
       "      <td>1994</td>\n",
       "      <td>Collision</td>\n",
       "      <td>11</td>\n",
       "      <td>4</td>\n",
       "    </tr>\n",
       "    <tr>\n",
       "      <th>3</th>\n",
       "      <td>Jun</td>\n",
       "      <td>2</td>\n",
       "      <td>Saturday</td>\n",
       "      <td>Toyota</td>\n",
       "      <td>Rural</td>\n",
       "      <td>Friday</td>\n",
       "      <td>Jul</td>\n",
       "      <td>1</td>\n",
       "      <td>Male</td>\n",
       "      <td>Married</td>\n",
       "      <td>...</td>\n",
       "      <td>Yes</td>\n",
       "      <td>No</td>\n",
       "      <td>External</td>\n",
       "      <td>more than 5</td>\n",
       "      <td>no change</td>\n",
       "      <td>1 vehicle</td>\n",
       "      <td>1994</td>\n",
       "      <td>Liability</td>\n",
       "      <td>7</td>\n",
       "      <td>5</td>\n",
       "    </tr>\n",
       "    <tr>\n",
       "      <th>4</th>\n",
       "      <td>Jan</td>\n",
       "      <td>5</td>\n",
       "      <td>Monday</td>\n",
       "      <td>Honda</td>\n",
       "      <td>Urban</td>\n",
       "      <td>Tuesday</td>\n",
       "      <td>Feb</td>\n",
       "      <td>2</td>\n",
       "      <td>Female</td>\n",
       "      <td>Single</td>\n",
       "      <td>...</td>\n",
       "      <td>No</td>\n",
       "      <td>No</td>\n",
       "      <td>External</td>\n",
       "      <td>none</td>\n",
       "      <td>no change</td>\n",
       "      <td>1 vehicle</td>\n",
       "      <td>1994</td>\n",
       "      <td>Collision</td>\n",
       "      <td>2</td>\n",
       "      <td>2</td>\n",
       "    </tr>\n",
       "  </tbody>\n",
       "</table>\n",
       "<p>5 rows × 35 columns</p>\n",
       "</div>"
      ],
      "text/plain": [
       "  Month  WeekOfMonth  DayOfWeek    Make AccidentArea DayOfWeekClaimed  \\\n",
       "0   Dec            5  Wednesday   Honda        Urban          Tuesday   \n",
       "1   Jan            3  Wednesday   Honda        Urban           Monday   \n",
       "2   Oct            5     Friday   Honda        Urban         Thursday   \n",
       "3   Jun            2   Saturday  Toyota        Rural           Friday   \n",
       "4   Jan            5     Monday   Honda        Urban          Tuesday   \n",
       "\n",
       "  MonthClaimed  WeekOfMonthClaimed     Sex MaritalStatus  ...  \\\n",
       "0          Jan                   1  Female        Single  ...   \n",
       "1          Jan                   4    Male        Single  ...   \n",
       "2          Nov                   2    Male       Married  ...   \n",
       "3          Jul                   1    Male       Married  ...   \n",
       "4          Feb                   2  Female        Single  ...   \n",
       "\n",
       "   PoliceReportFiled WitnessPresent AgentType NumberOfSuppliments  \\\n",
       "0                 No             No  External                none   \n",
       "1                Yes             No  External                none   \n",
       "2                 No             No  External                none   \n",
       "3                Yes             No  External         more than 5   \n",
       "4                 No             No  External                none   \n",
       "\n",
       "  AddressChange_Claim  NumberOfCars  Year  BasePolicy  MonthClaimed_int  \\\n",
       "0              1 year        3 to 4  1994   Liability                 1   \n",
       "1           no change     1 vehicle  1994   Collision                 1   \n",
       "2           no change     1 vehicle  1994   Collision                11   \n",
       "3           no change     1 vehicle  1994   Liability                 7   \n",
       "4           no change     1 vehicle  1994   Collision                 2   \n",
       "\n",
       "   DayOfWeekClaimed_int  \n",
       "0                     2  \n",
       "1                     1  \n",
       "2                     4  \n",
       "3                     5  \n",
       "4                     2  \n",
       "\n",
       "[5 rows x 35 columns]"
      ]
     },
     "execution_count": 13,
     "metadata": {},
     "output_type": "execute_result"
    }
   ],
   "source": [
    "# we will map the months and days columns to an equivalent integer for sorting purposes\n",
    "# create dictionaries - https://www.geeksforgeeks.org/replacing-strings-with-numbers-in-python-for-data-analysis/\n",
    "\n",
    "MonthClaimed_dict = {'Jan': 1, 'Feb': 2, 'Mar': 3, 'Apr': 4, 'May': 5, 'Jun': 6, 'Jul': 7, 'Aug': 8, 'Sep': 9, 'Oct': 10, 'Nov': 11, 'Dec': 12}\n",
    "DayOfWeekClaimed_dict = {'Monday': 1, 'Tuesday': 2, 'Wednesday': 3, 'Thursday': 4, 'Friday': 5, 'Saturday': 6, 'Sunday': 7}\n",
    "\n",
    "# iterate the column which requires the mapping in the dataframe, get the current iterated month, fetch it in the dictionary, retrieve the mapping from the dictionary and place it in\n",
    "# a new column in the same dataset\n",
    "data_sorted['MonthClaimed_int'] = [MonthClaimed_dict[month] for month in data_sorted.MonthClaimed]\n",
    "data_sorted['DayOfWeekClaimed_int'] = [DayOfWeekClaimed_dict[day] for day in data_sorted.DayOfWeekClaimed]\n",
    "\n",
    "data_sorted.head()\n",
    "\n",
    "# mapping applied"
   ]
  },
  {
   "cell_type": "markdown",
   "metadata": {},
   "source": [
    "### Now sort the data."
   ]
  },
  {
   "cell_type": "code",
   "execution_count": 14,
   "metadata": {},
   "outputs": [
    {
     "data": {
      "text/html": [
       "<div>\n",
       "<style scoped>\n",
       "    .dataframe tbody tr th:only-of-type {\n",
       "        vertical-align: middle;\n",
       "    }\n",
       "\n",
       "    .dataframe tbody tr th {\n",
       "        vertical-align: top;\n",
       "    }\n",
       "\n",
       "    .dataframe thead th {\n",
       "        text-align: right;\n",
       "    }\n",
       "</style>\n",
       "<table border=\"1\" class=\"dataframe\">\n",
       "  <thead>\n",
       "    <tr style=\"text-align: right;\">\n",
       "      <th></th>\n",
       "      <th>Month</th>\n",
       "      <th>WeekOfMonth</th>\n",
       "      <th>DayOfWeek</th>\n",
       "      <th>Make</th>\n",
       "      <th>AccidentArea</th>\n",
       "      <th>DayOfWeekClaimed</th>\n",
       "      <th>MonthClaimed</th>\n",
       "      <th>WeekOfMonthClaimed</th>\n",
       "      <th>Sex</th>\n",
       "      <th>MaritalStatus</th>\n",
       "      <th>...</th>\n",
       "      <th>PoliceReportFiled</th>\n",
       "      <th>WitnessPresent</th>\n",
       "      <th>AgentType</th>\n",
       "      <th>NumberOfSuppliments</th>\n",
       "      <th>AddressChange_Claim</th>\n",
       "      <th>NumberOfCars</th>\n",
       "      <th>Year</th>\n",
       "      <th>BasePolicy</th>\n",
       "      <th>MonthClaimed_int</th>\n",
       "      <th>DayOfWeekClaimed_int</th>\n",
       "    </tr>\n",
       "  </thead>\n",
       "  <tbody>\n",
       "    <tr>\n",
       "      <th>0</th>\n",
       "      <td>Oct</td>\n",
       "      <td>4</td>\n",
       "      <td>Tuesday</td>\n",
       "      <td>Chevrolet</td>\n",
       "      <td>Urban</td>\n",
       "      <td>Monday</td>\n",
       "      <td>Jan</td>\n",
       "      <td>1</td>\n",
       "      <td>Male</td>\n",
       "      <td>Married</td>\n",
       "      <td>...</td>\n",
       "      <td>No</td>\n",
       "      <td>No</td>\n",
       "      <td>External</td>\n",
       "      <td>none</td>\n",
       "      <td>no change</td>\n",
       "      <td>1 vehicle</td>\n",
       "      <td>1994</td>\n",
       "      <td>All Perils</td>\n",
       "      <td>1</td>\n",
       "      <td>1</td>\n",
       "    </tr>\n",
       "    <tr>\n",
       "      <th>1</th>\n",
       "      <td>Dec</td>\n",
       "      <td>1</td>\n",
       "      <td>Wednesday</td>\n",
       "      <td>Honda</td>\n",
       "      <td>Urban</td>\n",
       "      <td>Monday</td>\n",
       "      <td>Jan</td>\n",
       "      <td>1</td>\n",
       "      <td>Male</td>\n",
       "      <td>Single</td>\n",
       "      <td>...</td>\n",
       "      <td>No</td>\n",
       "      <td>No</td>\n",
       "      <td>External</td>\n",
       "      <td>none</td>\n",
       "      <td>4 to 8 years</td>\n",
       "      <td>2 vehicles</td>\n",
       "      <td>1994</td>\n",
       "      <td>Liability</td>\n",
       "      <td>1</td>\n",
       "      <td>1</td>\n",
       "    </tr>\n",
       "    <tr>\n",
       "      <th>2</th>\n",
       "      <td>Jan</td>\n",
       "      <td>1</td>\n",
       "      <td>Saturday</td>\n",
       "      <td>Chevrolet</td>\n",
       "      <td>Urban</td>\n",
       "      <td>Monday</td>\n",
       "      <td>Jan</td>\n",
       "      <td>1</td>\n",
       "      <td>Male</td>\n",
       "      <td>Married</td>\n",
       "      <td>...</td>\n",
       "      <td>No</td>\n",
       "      <td>No</td>\n",
       "      <td>External</td>\n",
       "      <td>more than 5</td>\n",
       "      <td>no change</td>\n",
       "      <td>1 vehicle</td>\n",
       "      <td>1994</td>\n",
       "      <td>Liability</td>\n",
       "      <td>1</td>\n",
       "      <td>1</td>\n",
       "    </tr>\n",
       "    <tr>\n",
       "      <th>3</th>\n",
       "      <td>Dec</td>\n",
       "      <td>2</td>\n",
       "      <td>Monday</td>\n",
       "      <td>Mazda</td>\n",
       "      <td>Urban</td>\n",
       "      <td>Monday</td>\n",
       "      <td>Jan</td>\n",
       "      <td>1</td>\n",
       "      <td>Male</td>\n",
       "      <td>Married</td>\n",
       "      <td>...</td>\n",
       "      <td>No</td>\n",
       "      <td>No</td>\n",
       "      <td>External</td>\n",
       "      <td>none</td>\n",
       "      <td>4 to 8 years</td>\n",
       "      <td>2 vehicles</td>\n",
       "      <td>1994</td>\n",
       "      <td>All Perils</td>\n",
       "      <td>1</td>\n",
       "      <td>1</td>\n",
       "    </tr>\n",
       "    <tr>\n",
       "      <th>4</th>\n",
       "      <td>Dec</td>\n",
       "      <td>3</td>\n",
       "      <td>Thursday</td>\n",
       "      <td>Honda</td>\n",
       "      <td>Urban</td>\n",
       "      <td>Monday</td>\n",
       "      <td>Jan</td>\n",
       "      <td>1</td>\n",
       "      <td>Male</td>\n",
       "      <td>Married</td>\n",
       "      <td>...</td>\n",
       "      <td>No</td>\n",
       "      <td>No</td>\n",
       "      <td>External</td>\n",
       "      <td>none</td>\n",
       "      <td>no change</td>\n",
       "      <td>1 vehicle</td>\n",
       "      <td>1994</td>\n",
       "      <td>Collision</td>\n",
       "      <td>1</td>\n",
       "      <td>1</td>\n",
       "    </tr>\n",
       "  </tbody>\n",
       "</table>\n",
       "<p>5 rows × 35 columns</p>\n",
       "</div>"
      ],
      "text/plain": [
       "  Month  WeekOfMonth  DayOfWeek       Make AccidentArea DayOfWeekClaimed  \\\n",
       "0   Oct            4    Tuesday  Chevrolet        Urban           Monday   \n",
       "1   Dec            1  Wednesday      Honda        Urban           Monday   \n",
       "2   Jan            1   Saturday  Chevrolet        Urban           Monday   \n",
       "3   Dec            2     Monday      Mazda        Urban           Monday   \n",
       "4   Dec            3   Thursday      Honda        Urban           Monday   \n",
       "\n",
       "  MonthClaimed  WeekOfMonthClaimed   Sex MaritalStatus  ...  \\\n",
       "0          Jan                   1  Male       Married  ...   \n",
       "1          Jan                   1  Male        Single  ...   \n",
       "2          Jan                   1  Male       Married  ...   \n",
       "3          Jan                   1  Male       Married  ...   \n",
       "4          Jan                   1  Male       Married  ...   \n",
       "\n",
       "   PoliceReportFiled WitnessPresent AgentType NumberOfSuppliments  \\\n",
       "0                 No             No  External                none   \n",
       "1                 No             No  External                none   \n",
       "2                 No             No  External         more than 5   \n",
       "3                 No             No  External                none   \n",
       "4                 No             No  External                none   \n",
       "\n",
       "  AddressChange_Claim  NumberOfCars  Year  BasePolicy  MonthClaimed_int  \\\n",
       "0           no change     1 vehicle  1994  All Perils                 1   \n",
       "1        4 to 8 years    2 vehicles  1994   Liability                 1   \n",
       "2           no change     1 vehicle  1994   Liability                 1   \n",
       "3        4 to 8 years    2 vehicles  1994  All Perils                 1   \n",
       "4           no change     1 vehicle  1994   Collision                 1   \n",
       "\n",
       "   DayOfWeekClaimed_int  \n",
       "0                     1  \n",
       "1                     1  \n",
       "2                     1  \n",
       "3                     1  \n",
       "4                     1  \n",
       "\n",
       "[5 rows x 35 columns]"
      ]
     },
     "execution_count": 14,
     "metadata": {},
     "output_type": "execute_result"
    }
   ],
   "source": [
    "# store a new data set which is sorted first with Year -> MonthClaimed -> WeekOfMonthClaimed -> DayOfWeekClaimed (all in ascending order)\n",
    "data_sorted = data_sorted.sort_values(['Year', 'MonthClaimed_int', 'WeekOfMonthClaimed', 'DayOfWeekClaimed_int'], ascending=[True, True, True, True], inplace = False)\n",
    "\n",
    "# reset the index\n",
    "data_sorted = data_sorted.reset_index(drop=True)\n",
    "\n",
    "# store the dataset as CSV\n",
    "data_sorted.to_csv(os.getcwd() + '\\\\..\\\\Dataset\\\\fraud_oracle_sorted_' + file_name_time + '.csv')\n",
    "\n",
    "data_sorted.head()"
   ]
  },
  {
   "cell_type": "code",
   "execution_count": 15,
   "metadata": {},
   "outputs": [
    {
     "data": {
      "text/html": [
       "<div>\n",
       "<style scoped>\n",
       "    .dataframe tbody tr th:only-of-type {\n",
       "        vertical-align: middle;\n",
       "    }\n",
       "\n",
       "    .dataframe tbody tr th {\n",
       "        vertical-align: top;\n",
       "    }\n",
       "\n",
       "    .dataframe thead th {\n",
       "        text-align: right;\n",
       "    }\n",
       "</style>\n",
       "<table border=\"1\" class=\"dataframe\">\n",
       "  <thead>\n",
       "    <tr style=\"text-align: right;\">\n",
       "      <th></th>\n",
       "      <th>Year</th>\n",
       "      <th>MonthClaimed</th>\n",
       "    </tr>\n",
       "  </thead>\n",
       "  <tbody>\n",
       "    <tr>\n",
       "      <th>0</th>\n",
       "      <td>1994</td>\n",
       "      <td>Jan</td>\n",
       "    </tr>\n",
       "    <tr>\n",
       "      <th>1</th>\n",
       "      <td>1994</td>\n",
       "      <td>Feb</td>\n",
       "    </tr>\n",
       "    <tr>\n",
       "      <th>2</th>\n",
       "      <td>1994</td>\n",
       "      <td>Mar</td>\n",
       "    </tr>\n",
       "    <tr>\n",
       "      <th>3</th>\n",
       "      <td>1994</td>\n",
       "      <td>Apr</td>\n",
       "    </tr>\n",
       "    <tr>\n",
       "      <th>4</th>\n",
       "      <td>1994</td>\n",
       "      <td>May</td>\n",
       "    </tr>\n",
       "  </tbody>\n",
       "</table>\n",
       "</div>"
      ],
      "text/plain": [
       "   Year MonthClaimed\n",
       "0  1994          Jan\n",
       "1  1994          Feb\n",
       "2  1994          Mar\n",
       "3  1994          Apr\n",
       "4  1994          May"
      ]
     },
     "execution_count": 15,
     "metadata": {},
     "output_type": "execute_result"
    }
   ],
   "source": [
    "# create a new data frame and store the years and month in it (at this stage they are now sorted)\n",
    "dates = pd.DataFrame()\n",
    "dates['Year'] = data_sorted['Year']\n",
    "dates['MonthClaimed'] = data_sorted['MonthClaimed']\n",
    "\n",
    "# drop any duplicates\n",
    "dates = dates.drop_duplicates()\n",
    "\n",
    "# reset the dataframe index\n",
    "dates = dates.reset_index(drop = True)\n",
    "\n",
    "dates.head()"
   ]
  },
  {
   "cell_type": "markdown",
   "metadata": {},
   "source": [
    "### Now we collect the number of fraudulent claims per year, and then month, so that we can plot fraudulent claims per month."
   ]
  },
  {
   "cell_type": "code",
   "execution_count": 16,
   "metadata": {},
   "outputs": [
    {
     "name": "stdout",
     "output_type": "stream",
     "text": [
      "Total no. of fraudulent claims: 923\n",
      "   Year MonthClaimed  fraud_claims\n",
      "0  1994          Jan            46\n",
      "1  1994          Feb            38\n",
      "2  1994          Mar            45\n",
      "3  1994          Apr            52\n",
      "4  1994          May            58\n"
     ]
    }
   ],
   "source": [
    "fraud_claims = []\n",
    "\n",
    "# iterate over each year and month to get the fraudulent claims per month\n",
    "for year, month in zip(dates['Year'], dates['MonthClaimed']):\n",
    "    # append the total no of fraudulent claims for a certain month\n",
    "    fraud_claims.append(len(data_sorted[(data_sorted['Year'] == year) & (data_sorted['MonthClaimed'] == month) & (data_sorted['FraudFound_P'] == 1)].index))\n",
    "\n",
    "# add the collected data to the dataframe storing the year and month\n",
    "dates['fraud_claims'] = fraud_claims\n",
    "\n",
    "# for verification purposes\n",
    "print('Total no. of fraudulent claims:', np.sum(fraud_claims))\n",
    "\n",
    "print(dates.head())\n",
    "\n",
    "dates.to_csv(os.getcwd() + '/../Stats/fraud_claims_per_month' + file_name_time + '.csv')"
   ]
  },
  {
   "cell_type": "markdown",
   "metadata": {},
   "source": [
    "### Plot the fraudulent claims per month."
   ]
  },
  {
   "cell_type": "code",
   "execution_count": 17,
   "metadata": {},
   "outputs": [
    {
     "data": {
      "image/png": "[encoded data removed]",
      "text/plain": [
       "<Figure size 7200x720 with 1 Axes>"
      ]
     },
     "metadata": {
      "needs_background": "light"
     },
     "output_type": "display_data"
    }
   ],
   "source": [
    "plt.figure(figsize=(100,10))\n",
    "\n",
    "# set the x-axis\n",
    "x_axis = [str(year) + ' ' + month for year, month in zip(dates['Year'], dates['MonthClaimed'])]\n",
    "\n",
    "plt.plot(x_axis, dates['fraud_claims'])\n",
    "plt.title(\"No. of fraudulent claims per month, no. of fraudulent claims vs month\")\n",
    "plt.savefig(os.getcwd() + '/../Plots/fraudulent_claims_per_month' + file_name_time + '.png', bbox_inches='tight')\n",
    "plt.show()"
   ]
  },
  {
   "cell_type": "markdown",
   "metadata": {},
   "source": [
    "### Although we have a very small amount of data, we can see that the data is not stationary. Thus, we continue investigating."
   ]
  },
  {
   "cell_type": "markdown",
   "metadata": {},
   "source": [
    "### From here onwards we build decision trees and check their structure."
   ]
  },
  {
   "cell_type": "code",
   "execution_count": 18,
   "metadata": {},
   "outputs": [
    {
     "name": "stdout",
     "output_type": "stream",
     "text": [
      "12\n"
     ]
    }
   ],
   "source": [
    "# these settings were chosen arbitrarily\n",
    "window_size = 5000\n",
    "step = 1000\n",
    "\n",
    "# forgot the source of this equation\n",
    "num_of_iterations = math.ceil(((len(data_sorted.index)-window_size)/step)+1)\n",
    "\n",
    "print(num_of_iterations)"
   ]
  },
  {
   "cell_type": "code",
   "execution_count": 19,
   "metadata": {},
   "outputs": [],
   "source": [
    "def get_feature_number(text):\n",
    "    text_after = text.split(\"|--- \",1)[1]\n",
    "    number = text_after.split(\" \", 1)[0]\n",
    "    return int(number.split(\"_\",1)[1])"
   ]
  },
  {
   "cell_type": "code",
   "execution_count": 20,
   "metadata": {},
   "outputs": [],
   "source": [
    "def get_feature_level(text):\n",
    "    return text.count('|   ')"
   ]
  },
  {
   "cell_type": "markdown",
   "metadata": {},
   "source": [
    "### Create a column consisting of the Year and MonthClaimed joined into one single column."
   ]
  },
  {
   "cell_type": "code",
   "execution_count": 21,
   "metadata": {},
   "outputs": [],
   "source": [
    "data_sorted['YearMonthClaimed'] = [str(year) + ' ' + month for year, month in zip(data_sorted['Year'], data_sorted['MonthClaimed'])]"
   ]
  },
  {
   "cell_type": "markdown",
   "metadata": {},
   "source": [
    "### First we get the number of claims per generated window."
   ]
  },
  {
   "cell_type": "code",
   "execution_count": 22,
   "metadata": {},
   "outputs": [],
   "source": [
    "# dataframe for the Year and MonthClaimed frequency count\n",
    "dates_freq = pd.DataFrame({'YearMonthClaimed': data_sorted.YearMonthClaimed.unique()})\n",
    "\n",
    "# also create two seperate columns for the Year and MonthClaimed\n",
    "dates_freq['Year'] = dates.Year\n",
    "dates_freq['MonthClaimed'] = dates.MonthClaimed\n",
    "\n",
    "# another dataframe to use during the window generation process\n",
    "data_to_use = data_sorted\n",
    "\n",
    "# retrieve the records and do frequency counts for Year and MonthClaimed per window\n",
    "for i in range(0, num_of_iterations):\n",
    "    \n",
    "    # this dataframe is used to generate the windows\n",
    "    to_use = pd.DataFrame()\n",
    "    \n",
    "    if len(data_to_use.index) >= window_size:\n",
    "    \n",
    "        # retrieve the first number of records using the window size\n",
    "        to_use = data_to_use.head(window_size)\n",
    "        \n",
    "        # remove the first n (step size) rows\n",
    "        data_to_use = data_to_use.iloc[step:]\n",
    "        \n",
    "    else:\n",
    "        \n",
    "        # retrieve the first number of records using the size of the dataframe since it's the last window\n",
    "        to_use = data_to_use.head(len(data_to_use.index))\n",
    "    \n",
    "    # get the frequency counts of the Year and MonthClaimed\n",
    "    dates_freq['tree_' + str(i)] = dates_freq['YearMonthClaimed'].map(to_use['YearMonthClaimed'].value_counts())"
   ]
  },
  {
   "cell_type": "code",
   "execution_count": 23,
   "metadata": {},
   "outputs": [],
   "source": [
    "# save the YearMonthClaimed frequency per window tree to csv\n",
    "dates_freq.to_csv(os.getcwd() + '/../Stats/dates_freq' + file_name_time + '.csv')"
   ]
  },
  {
   "cell_type": "code",
   "execution_count": 24,
   "metadata": {},
   "outputs": [
    {
     "data": {
      "text/plain": [
       "Index(['Month', 'WeekOfMonth', 'DayOfWeek', 'Make', 'AccidentArea',\n",
       "       'DayOfWeekClaimed', 'MonthClaimed', 'WeekOfMonthClaimed', 'Sex',\n",
       "       'MaritalStatus', 'Age', 'Fault', 'PolicyType', 'VehicleCategory',\n",
       "       'VehiclePrice', 'FraudFound_P', 'PolicyNumber', 'RepNumber',\n",
       "       'Deductible', 'DriverRating', 'Days_Policy_Accident',\n",
       "       'Days_Policy_Claim', 'PastNumberOfClaims', 'AgeOfVehicle',\n",
       "       'AgeOfPolicyHolder', 'PoliceReportFiled', 'WitnessPresent', 'AgentType',\n",
       "       'NumberOfSuppliments', 'AddressChange_Claim', 'NumberOfCars', 'Year',\n",
       "       'BasePolicy', 'MonthClaimed_int', 'DayOfWeekClaimed_int',\n",
       "       'YearMonthClaimed'],\n",
       "      dtype='object')"
      ]
     },
     "execution_count": 24,
     "metadata": {},
     "output_type": "execute_result"
    }
   ],
   "source": [
    "# print the column names\n",
    "data_sorted.columns"
   ]
  },
  {
   "cell_type": "code",
   "execution_count": 25,
   "metadata": {},
   "outputs": [],
   "source": [
    "# identify which features to keep\n",
    "# removed RepNumber, PolicyNumber, MonthClaimed_int, DayOfWeekClaimed_int\n",
    "featuresToKeep = ['Month', 'WeekOfMonth', 'DayOfWeek','Make','AccidentArea', \n",
    "                 'DayOfWeekClaimed','MonthClaimed','WeekOfMonthClaimed', \n",
    "                 'Sex','MaritalStatus','Age', \n",
    "                 'Fault','PolicyType','VehicleCategory',\n",
    "                 'VehiclePrice','Deductible','DriverRating', \n",
    "                 'Days_Policy_Accident','Days_Policy_Claim','PastNumberOfClaims','AgeOfVehicle', \n",
    "                 'AgeOfPolicyHolder','PoliceReportFiled','WitnessPresent',\n",
    "                 'AgentType', 'NumberOfSuppliments','AddressChange_Claim', \n",
    "                 'NumberOfCars', 'BasePolicy', 'Year', 'FraudFound_P']\n",
    "\n",
    "data_sorted = data_sorted[featuresToKeep]"
   ]
  },
  {
   "cell_type": "code",
   "execution_count": 26,
   "metadata": {},
   "outputs": [],
   "source": [
    "# function that applies label encoding to the string categorical features\n",
    "def apply_label_encoding(data):\n",
    "    \n",
    "    # creating instance of labelencoder\n",
    "    labelencoder = LabelEncoder()\n",
    "    \n",
    "    # Assigning numerical values and storing in another column\n",
    "    data['Month'] = labelencoder.fit_transform(data['Month'])\n",
    "    data['DayOfWeek'] = labelencoder.fit_transform(data['DayOfWeek'])\n",
    "    data['Make'] = labelencoder.fit_transform(data['Make'])\n",
    "    data['AccidentArea'] = labelencoder.fit_transform(data['AccidentArea'])\n",
    "    data['DayOfWeekClaimed'] = labelencoder.fit_transform(data['DayOfWeekClaimed'])\n",
    "    data['MonthClaimed'] = labelencoder.fit_transform(data['MonthClaimed'])\n",
    "    data['Sex'] = labelencoder.fit_transform(data['Sex'])\n",
    "    data['MaritalStatus'] = labelencoder.fit_transform(data['MaritalStatus'])\n",
    "    data['Fault'] = labelencoder.fit_transform(data['Fault'])\n",
    "    data['PolicyType'] = labelencoder.fit_transform(data['PolicyType'])\n",
    "    data['VehicleCategory'] = labelencoder.fit_transform(data['VehicleCategory'])\n",
    "    data['VehiclePrice'] = labelencoder.fit_transform(data['VehiclePrice'])\n",
    "    data['Days_Policy_Accident'] = labelencoder.fit_transform(data['Days_Policy_Accident'])\n",
    "    data['Days_Policy_Claim'] = labelencoder.fit_transform(data['Days_Policy_Claim'])\n",
    "    data['PastNumberOfClaims'] = labelencoder.fit_transform(data['PastNumberOfClaims']) # has certain cells as null\n",
    "    data['AgeOfVehicle'] = labelencoder.fit_transform(data['AgeOfVehicle'])\n",
    "    data['AgeOfPolicyHolder'] = labelencoder.fit_transform(data['AgeOfPolicyHolder'])\n",
    "    data['PoliceReportFiled'] = labelencoder.fit_transform(data['PoliceReportFiled'])\n",
    "    data['WitnessPresent'] = labelencoder.fit_transform(data['WitnessPresent'])\n",
    "    data['AgentType'] = labelencoder.fit_transform(data['AgentType'])\n",
    "    data['NumberOfSuppliments'] = labelencoder.fit_transform(data['NumberOfSuppliments'])\n",
    "    data['AddressChange_Claim'] = labelencoder.fit_transform(data['AddressChange_Claim'])\n",
    "    data['NumberOfCars'] = labelencoder.fit_transform(data['NumberOfCars'])\n",
    "    data['BasePolicy'] = labelencoder.fit_transform(data['BasePolicy'])\n",
    "    \n",
    "    \n",
    "    return data\n",
    "\n",
    "# apply the label encoding to the selected categorical features\n",
    "data_sorted = apply_label_encoding(data_sorted)"
   ]
  },
  {
   "cell_type": "code",
   "execution_count": 27,
   "metadata": {},
   "outputs": [
    {
     "data": {
      "text/html": [
       "<div>\n",
       "<style scoped>\n",
       "    .dataframe tbody tr th:only-of-type {\n",
       "        vertical-align: middle;\n",
       "    }\n",
       "\n",
       "    .dataframe tbody tr th {\n",
       "        vertical-align: top;\n",
       "    }\n",
       "\n",
       "    .dataframe thead th {\n",
       "        text-align: right;\n",
       "    }\n",
       "</style>\n",
       "<table border=\"1\" class=\"dataframe\">\n",
       "  <thead>\n",
       "    <tr style=\"text-align: right;\">\n",
       "      <th></th>\n",
       "      <th>Month</th>\n",
       "      <th>WeekOfMonth</th>\n",
       "      <th>DayOfWeek</th>\n",
       "      <th>Make</th>\n",
       "      <th>AccidentArea</th>\n",
       "      <th>DayOfWeekClaimed</th>\n",
       "      <th>MonthClaimed</th>\n",
       "      <th>WeekOfMonthClaimed</th>\n",
       "      <th>Sex</th>\n",
       "      <th>MaritalStatus</th>\n",
       "      <th>...</th>\n",
       "      <th>AgeOfPolicyHolder</th>\n",
       "      <th>PoliceReportFiled</th>\n",
       "      <th>WitnessPresent</th>\n",
       "      <th>AgentType</th>\n",
       "      <th>NumberOfSuppliments</th>\n",
       "      <th>AddressChange_Claim</th>\n",
       "      <th>NumberOfCars</th>\n",
       "      <th>BasePolicy</th>\n",
       "      <th>Year</th>\n",
       "      <th>FraudFound_P</th>\n",
       "    </tr>\n",
       "  </thead>\n",
       "  <tbody>\n",
       "    <tr>\n",
       "      <th>0</th>\n",
       "      <td>10</td>\n",
       "      <td>4</td>\n",
       "      <td>5</td>\n",
       "      <td>2</td>\n",
       "      <td>1</td>\n",
       "      <td>1</td>\n",
       "      <td>4</td>\n",
       "      <td>1</td>\n",
       "      <td>1</td>\n",
       "      <td>1</td>\n",
       "      <td>...</td>\n",
       "      <td>4</td>\n",
       "      <td>0</td>\n",
       "      <td>0</td>\n",
       "      <td>0</td>\n",
       "      <td>3</td>\n",
       "      <td>3</td>\n",
       "      <td>0</td>\n",
       "      <td>0</td>\n",
       "      <td>1994</td>\n",
       "      <td>0</td>\n",
       "    </tr>\n",
       "    <tr>\n",
       "      <th>1</th>\n",
       "      <td>2</td>\n",
       "      <td>1</td>\n",
       "      <td>6</td>\n",
       "      <td>6</td>\n",
       "      <td>1</td>\n",
       "      <td>1</td>\n",
       "      <td>4</td>\n",
       "      <td>1</td>\n",
       "      <td>1</td>\n",
       "      <td>2</td>\n",
       "      <td>...</td>\n",
       "      <td>0</td>\n",
       "      <td>0</td>\n",
       "      <td>0</td>\n",
       "      <td>0</td>\n",
       "      <td>3</td>\n",
       "      <td>2</td>\n",
       "      <td>1</td>\n",
       "      <td>2</td>\n",
       "      <td>1994</td>\n",
       "      <td>0</td>\n",
       "    </tr>\n",
       "    <tr>\n",
       "      <th>2</th>\n",
       "      <td>4</td>\n",
       "      <td>1</td>\n",
       "      <td>2</td>\n",
       "      <td>2</td>\n",
       "      <td>1</td>\n",
       "      <td>1</td>\n",
       "      <td>4</td>\n",
       "      <td>1</td>\n",
       "      <td>1</td>\n",
       "      <td>1</td>\n",
       "      <td>...</td>\n",
       "      <td>5</td>\n",
       "      <td>0</td>\n",
       "      <td>0</td>\n",
       "      <td>0</td>\n",
       "      <td>2</td>\n",
       "      <td>3</td>\n",
       "      <td>0</td>\n",
       "      <td>2</td>\n",
       "      <td>1994</td>\n",
       "      <td>0</td>\n",
       "    </tr>\n",
       "    <tr>\n",
       "      <th>3</th>\n",
       "      <td>2</td>\n",
       "      <td>2</td>\n",
       "      <td>1</td>\n",
       "      <td>9</td>\n",
       "      <td>1</td>\n",
       "      <td>1</td>\n",
       "      <td>4</td>\n",
       "      <td>1</td>\n",
       "      <td>1</td>\n",
       "      <td>1</td>\n",
       "      <td>...</td>\n",
       "      <td>5</td>\n",
       "      <td>0</td>\n",
       "      <td>0</td>\n",
       "      <td>0</td>\n",
       "      <td>3</td>\n",
       "      <td>2</td>\n",
       "      <td>1</td>\n",
       "      <td>0</td>\n",
       "      <td>1994</td>\n",
       "      <td>1</td>\n",
       "    </tr>\n",
       "    <tr>\n",
       "      <th>4</th>\n",
       "      <td>2</td>\n",
       "      <td>3</td>\n",
       "      <td>4</td>\n",
       "      <td>6</td>\n",
       "      <td>1</td>\n",
       "      <td>1</td>\n",
       "      <td>4</td>\n",
       "      <td>1</td>\n",
       "      <td>1</td>\n",
       "      <td>1</td>\n",
       "      <td>...</td>\n",
       "      <td>5</td>\n",
       "      <td>0</td>\n",
       "      <td>0</td>\n",
       "      <td>0</td>\n",
       "      <td>3</td>\n",
       "      <td>3</td>\n",
       "      <td>0</td>\n",
       "      <td>1</td>\n",
       "      <td>1994</td>\n",
       "      <td>1</td>\n",
       "    </tr>\n",
       "  </tbody>\n",
       "</table>\n",
       "<p>5 rows × 31 columns</p>\n",
       "</div>"
      ],
      "text/plain": [
       "   Month  WeekOfMonth  DayOfWeek  Make  AccidentArea  DayOfWeekClaimed  \\\n",
       "0     10            4          5     2             1                 1   \n",
       "1      2            1          6     6             1                 1   \n",
       "2      4            1          2     2             1                 1   \n",
       "3      2            2          1     9             1                 1   \n",
       "4      2            3          4     6             1                 1   \n",
       "\n",
       "   MonthClaimed  WeekOfMonthClaimed  Sex  MaritalStatus  ...  \\\n",
       "0             4                   1    1              1  ...   \n",
       "1             4                   1    1              2  ...   \n",
       "2             4                   1    1              1  ...   \n",
       "3             4                   1    1              1  ...   \n",
       "4             4                   1    1              1  ...   \n",
       "\n",
       "   AgeOfPolicyHolder  PoliceReportFiled  WitnessPresent  AgentType  \\\n",
       "0                  4                  0               0          0   \n",
       "1                  0                  0               0          0   \n",
       "2                  5                  0               0          0   \n",
       "3                  5                  0               0          0   \n",
       "4                  5                  0               0          0   \n",
       "\n",
       "   NumberOfSuppliments  AddressChange_Claim  NumberOfCars  BasePolicy  Year  \\\n",
       "0                    3                    3             0           0  1994   \n",
       "1                    3                    2             1           2  1994   \n",
       "2                    2                    3             0           2  1994   \n",
       "3                    3                    2             1           0  1994   \n",
       "4                    3                    3             0           1  1994   \n",
       "\n",
       "   FraudFound_P  \n",
       "0             0  \n",
       "1             0  \n",
       "2             0  \n",
       "3             1  \n",
       "4             1  \n",
       "\n",
       "[5 rows x 31 columns]"
      ]
     },
     "execution_count": 27,
     "metadata": {},
     "output_type": "execute_result"
    }
   ],
   "source": [
    "data_sorted.head()"
   ]
  },
  {
   "cell_type": "code",
   "execution_count": 28,
   "metadata": {},
   "outputs": [
    {
     "name": "stdout",
     "output_type": "stream",
     "text": [
      "Will generate the windows...\n",
      "Trees generated\n"
     ]
    }
   ],
   "source": [
    "orig_df = data_sorted\n",
    "\n",
    "df = data_sorted\n",
    "\n",
    "# create a dataframe which will store the feature levels\n",
    "index = df.columns.tolist()\n",
    "index.remove('FraudFound_P')\n",
    "feature_levels = pd.DataFrame({'features': index})\n",
    "\n",
    "# create a column to store the number of NAs for each feature\n",
    "feature_levels['all_NAs'] = False\n",
    "feature_levels['no_of_NAs'] = 0\n",
    "feature_levels['no_of_times_root'] = 0\n",
    "\n",
    "logging.info(\"Will generate the windows\")\n",
    "print(\"Will generate the windows...\")\n",
    "\n",
    "# lists for number of nodes and tree number\n",
    "no_of_nodes = []\n",
    "tree_depth = []\n",
    "tree_column = []\n",
    "\n",
    "# to store the window sizes\n",
    "window_sizes = []\n",
    "\n",
    "# retrieve the records and create decision trees\n",
    "for i in range(0, num_of_iterations):\n",
    "\n",
    "    to_use = pd.DataFrame()\n",
    "    \n",
    "    if len(df.index) >= window_size:\n",
    "    \n",
    "        # retrieve the first number of records using the window size\n",
    "        to_use = df.head(window_size)\n",
    "        \n",
    "        # remove the first n (step size) rows\n",
    "        df = df.iloc[step:]\n",
    "        \n",
    "    else:\n",
    "        \n",
    "        # retrieve the first number of records using the size of the dataframe since it's the last window\n",
    "        to_use = df.head(len(df.index))\n",
    "    \n",
    "    # append the size of the windows\n",
    "    window_sizes.append(len(to_use.index))\n",
    "        \n",
    "    # print(\"Size of window is\", str(len(to_use.index)))     \n",
    "    \n",
    "    # initialize the decision tree\n",
    "    dt = DecisionTreeClassifier(criterion='entropy')\n",
    "    \n",
    "    #dt = DecisionTreeClassifier(criterion='entropy', splitter='random',\n",
    "                                #max_depth=10, min_samples_split=2,\n",
    "                                #min_samples_leaf=10,\n",
    "                                #max_leaf_nodes=None, class_weight='balanced')\n",
    "    \n",
    "    # split the label and rest of the data\n",
    "    y = to_use['FraudFound_P']\n",
    "    X = to_use.drop('FraudFound_P', axis=1)\n",
    "\n",
    "    # split the sets\n",
    "    X_train, X_test, y_train, y_test = train_test_split(X, y, test_size=0.30, shuffle = False)\n",
    "    \n",
    "    # train the decision tree\n",
    "    dt = dt.fit(X_train, y_train)\n",
    "\n",
    "    logging.info(\"Decision tree \" + str(i) + \" created\")\n",
    "\n",
    "    export_graphviz(dt, out_file=os.getcwd() + '/../Dot_files/tree_' + str(i) + '.dot', feature_names=X_train.columns,\n",
    "                    class_names=['0', '1'],\n",
    "                    rounded=True, proportion=False, precision=2, filled=True)\n",
    "    \n",
    "    # new df for the most important features\n",
    "    most_important_features = pd.DataFrame(columns = ['tree_number', 'feature', 'feature_number'])\n",
    "    \n",
    "    # top 5 important features\n",
    "    # counter to rank the top 5 most important features\n",
    "    c = 0\n",
    "    logging.info('The top 5 most importand features:')\n",
    "    for importance, name in sorted(zip(dt.feature_importances_, X_train.columns), reverse=True)[:len(df.columns)]:\n",
    "        logging.info(name + \" \" + str(importance))\n",
    "        c += 1\n",
    "        most_important_features.loc[len(most_important_features.index)] = ['tree_' + str(i), c]\n",
    "    \n",
    "    # now save the CSV\n",
    "    most_important_features.to_csv(os.getcwd() + '/../Dot_files/most_important_features' + file_name_time + '.csv')\n",
    "    \n",
    "    logging.info(\"Number of nodes for tree \" + str(i) + \" is \" + str(dt.tree_.node_count))\n",
    "    \n",
    "    # append the number of nodes\n",
    "    no_of_nodes.append(dt.tree_.node_count)\n",
    "    tree_depth.append(dt.tree_.max_depth)\n",
    "    tree_column.append('tree_' + str(i))\n",
    "    \n",
    "    # get the tree rules\n",
    "    tree_rules = export_text(dt)\n",
    "    tree_rules_with_feature_names = export_text(dt, feature_names = X_train.columns.tolist())\n",
    "    \n",
    "    text_file = open(os.getcwd() + \"/../Tree_structures/tree_\" + str(i) + \"_structure.txt\", \"w\")\n",
    "    text_file.write(tree_rules_with_feature_names)\n",
    "    text_file.close()\n",
    "    \n",
    "    # create a column for the current tree\n",
    "    feature_levels['tree_' + str(i)] = 'NA'\n",
    "    \n",
    "    # check each line\n",
    "    for line in tree_rules.splitlines():\n",
    "        if 'class' not in line and 'truncated' not in line:\n",
    "            level = get_feature_level(line)\n",
    "            feature_number = get_feature_number(line)\n",
    "            \n",
    "            # add the feature level\n",
    "            if feature_levels.at[feature_number, 'tree_' + str(i)]== 'NA':\n",
    "                feature_levels.loc[feature_number, 'tree_' + str(i)] = ',' + str(level)\n",
    "            elif str(level) not in feature_levels.iloc[feature_number]['tree_' + str(i)]:\n",
    "                feature_levels.loc[feature_number, 'tree_' + str(i)] = feature_levels.iloc[feature_number]['tree_' + str(i)] + ',' + str(level)\n",
    "        \n",
    "    logging.info(\"\\n\")\n",
    "    \n",
    "print(\"Trees generated\")"
   ]
  },
  {
   "cell_type": "markdown",
   "metadata": {},
   "source": [
    "### Plotting the number of nodes and depth of each tree"
   ]
  },
  {
   "cell_type": "code",
   "execution_count": 29,
   "metadata": {},
   "outputs": [
    {
     "data": {
      "image/png": "[encoded data removed]",
      "text/plain": [
       "<Figure size 2520x720 with 1 Axes>"
      ]
     },
     "metadata": {
      "needs_background": "light"
     },
     "output_type": "display_data"
    },
    {
     "data": {
      "image/png": "[encoded data removed]",
      "text/plain": [
       "<Figure size 2520x720 with 1 Axes>"
      ]
     },
     "metadata": {
      "needs_background": "light"
     },
     "output_type": "display_data"
    }
   ],
   "source": [
    "# plot the number of nodes for each tree\n",
    "plt.figure(figsize=(35,10))\n",
    "plt.title('no_of_nodes')\n",
    "plt.plot(no_of_nodes, \"-b\")\n",
    "plt.savefig(os.getcwd() + '/../Plots/no_of_nodes_per_tree' + file_name_time + '.png')\n",
    "\n",
    "plt.figure(figsize=(35,10))\n",
    "plt.title('tree_depth')\n",
    "plt.plot(tree_depth, \"-r\")\n",
    "plt.savefig(os.getcwd() + '/../Plots/tree_depth_per_tree' + file_name_time + '.png')"
   ]
  },
  {
   "cell_type": "markdown",
   "metadata": {},
   "source": [
    "### Computing the number of times that a feature did not appear in a tree, and the number of times a feature was the root of the tree"
   ]
  },
  {
   "cell_type": "code",
   "execution_count": 30,
   "metadata": {},
   "outputs": [],
   "source": [
    "# compute further information\n",
    "feature_levels_list = feature_levels.values.tolist()\n",
    "\n",
    "# store a counter to access the dataframe index\n",
    "count = 0\n",
    "\n",
    "# iterate each row\n",
    "for row in feature_levels_list:\n",
    "    # count the number of NAs in a row\n",
    "    no_of_NAs = row.count('NA')\n",
    "    feature_levels.loc[count, 'no_of_NAs'] = no_of_NAs\n",
    "    \n",
    "    # find how much times feature was a root\n",
    "    no_of_times_root = 0\n",
    "    for item in row[4:]:\n",
    "        if item.count(',0,') > 0:\n",
    "            no_of_times_root += 1\n",
    "    feature_levels.loc[count, 'no_of_times_root'] = no_of_times_root    \n",
    "    \n",
    "    # mark if all NAs\n",
    "    if no_of_NAs == len(row) - 4:\n",
    "        print(feature_levels.loc[count, 'features'], 'did not appear once in a tree')\n",
    "        feature_levels.loc[count, 'all_NAs'] = True\n",
    "    \n",
    "    # increase counter\n",
    "    count += 1"
   ]
  },
  {
   "cell_type": "code",
   "execution_count": 31,
   "metadata": {},
   "outputs": [],
   "source": [
    "# save the dataframe with the feature levels\n",
    "feature_levels.to_csv(os.getcwd() + '/../Tree_structures/feature_levels' + file_name_time + '.csv', index = False)"
   ]
  },
  {
   "cell_type": "code",
   "execution_count": 32,
   "metadata": {},
   "outputs": [],
   "source": [
    "# save the dataframe with the number of nodes\n",
    "df_no_of_nodes = pd.DataFrame({'tree': tree_column, 'no_of_nodes': no_of_nodes, 'tree_depth': tree_depth, 'window_sizes': window_sizes})\n",
    "df_no_of_nodes.to_csv(os.getcwd() + '/../Tree_structures/tree_stats' + file_name_time + '.csv', index = False)"
   ]
  },
  {
   "cell_type": "code",
   "execution_count": 33,
   "metadata": {},
   "outputs": [],
   "source": [
    "logging.info(\"#### Run finished ####\")"
   ]
  }
 ],
 "metadata": {
  "kernelspec": {
   "display_name": "Python 3",
   "language": "python",
   "name": "python3"
  },
  "language_info": {
   "codemirror_mode": {
    "name": "ipython",
    "version": 3
   },
   "file_extension": ".py",
   "mimetype": "text/x-python",
   "name": "python",
   "nbconvert_exporter": "python",
   "pygments_lexer": "ipython3",
   "version": "3.7.3"
  }
 },
 "nbformat": 4,
 "nbformat_minor": 4
}
